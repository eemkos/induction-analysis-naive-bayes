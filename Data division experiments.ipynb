{
 "cells": [
  {
   "cell_type": "code",
   "execution_count": 1,
   "metadata": {
    "collapsed": true
   },
   "outputs": [],
   "source": [
    "%matplotlib inline"
   ]
  },
  {
   "cell_type": "code",
   "execution_count": 2,
   "metadata": {
    "collapsed": true
   },
   "outputs": [],
   "source": [
    "import pandas as pd\n",
    "import numpy as np\n",
    "import seaborn as sbn\n",
    "from matplotlib import pyplot as plt"
   ]
  },
  {
   "cell_type": "code",
   "execution_count": 3,
   "metadata": {
    "collapsed": true
   },
   "outputs": [],
   "source": [
    "from src.utils.load_processed_data import load_glass\n",
    "from src.naive_bayes import GaussianNaiveBayes, NaiveBayes\n",
    "from src.evaluators import MetricsEvaluator\n",
    "from src.cross_validation import CrossValidator"
   ]
  },
  {
   "cell_type": "code",
   "execution_count": 4,
   "metadata": {
    "collapsed": true
   },
   "outputs": [],
   "source": [
    "import tqdm"
   ]
  },
  {
   "cell_type": "markdown",
   "metadata": {},
   "source": [
    "# Experiments"
   ]
  },
  {
   "cell_type": "code",
   "execution_count": 5,
   "metadata": {
    "collapsed": true
   },
   "outputs": [],
   "source": [
    "data = load_glass()\n",
    "X, Y = data"
   ]
  },
  {
   "cell_type": "code",
   "execution_count": 6,
   "metadata": {},
   "outputs": [
    {
     "data": {
      "text/plain": [
       "214"
      ]
     },
     "execution_count": 6,
     "metadata": {},
     "output_type": "execute_result"
    }
   ],
   "source": [
    "len(X)"
   ]
  },
  {
   "cell_type": "code",
   "execution_count": 7,
   "metadata": {
    "collapsed": true
   },
   "outputs": [],
   "source": [
    "tested_kfolds = [2, 3, 5, 7, 10, 15, 20, 30, 50, 100, len(X)]\n",
    "nb_repetitions = 30"
   ]
  },
  {
   "cell_type": "markdown",
   "metadata": {},
   "source": [
    "## CV"
   ]
  },
  {
   "cell_type": "code",
   "execution_count": 8,
   "metadata": {},
   "outputs": [
    {
     "name": "stderr",
     "output_type": "stream",
     "text": [
      "100%|██████████████████████████████████████████████████████████████████████████████████████████████████████████████████| 11/11 [01:28<00:00,  8.04s/it]\n"
     ]
    },
    {
     "name": "stdout",
     "output_type": "stream",
     "text": [
      "Wall time: 1min 28s\n"
     ]
    }
   ],
   "source": [
    "%%time\n",
    "results = []\n",
    "\n",
    "for k in tqdm.tqdm(tested_kfolds):\n",
    "    kfold_results = []\n",
    "    for _ in range(nb_repetitions):\n",
    "        cv = CrossValidator(X, Y, \n",
    "                            lambda: GaussianNaiveBayes())\n",
    "                            #lambda: NaiveBayes(zero_frequency_fill=True))\n",
    "        metr_evals = cv.kfold_cross_validation(k)\n",
    "        kfold_results += metr_evals\n",
    "    results.append(kfold_results)"
   ]
  },
  {
   "cell_type": "code",
   "execution_count": 9,
   "metadata": {},
   "outputs": [
    {
     "data": {
      "text/plain": [
       "11"
      ]
     },
     "execution_count": 9,
     "metadata": {},
     "output_type": "execute_result"
    }
   ],
   "source": [
    "len(results)"
   ]
  },
  {
   "cell_type": "code",
   "execution_count": 10,
   "metadata": {},
   "outputs": [
    {
     "data": {
      "text/plain": [
       "13680"
      ]
     },
     "execution_count": 10,
     "metadata": {},
     "output_type": "execute_result"
    }
   ],
   "source": [
    "sum([len(r) for r in results])"
   ]
  },
  {
   "cell_type": "code",
   "execution_count": 11,
   "metadata": {
    "scrolled": true
   },
   "outputs": [
    {
     "data": {
      "text/html": [
       "<div>\n",
       "<style>\n",
       "    .dataframe thead tr:only-child th {\n",
       "        text-align: right;\n",
       "    }\n",
       "\n",
       "    .dataframe thead th {\n",
       "        text-align: left;\n",
       "    }\n",
       "\n",
       "    .dataframe tbody tr th {\n",
       "        vertical-align: top;\n",
       "    }\n",
       "</style>\n",
       "<table border=\"1\" class=\"dataframe\">\n",
       "  <thead>\n",
       "    <tr style=\"text-align: right;\">\n",
       "      <th></th>\n",
       "      <th>Number of Folds</th>\n",
       "    </tr>\n",
       "  </thead>\n",
       "  <tbody>\n",
       "    <tr>\n",
       "      <th>0</th>\n",
       "      <td>2</td>\n",
       "    </tr>\n",
       "    <tr>\n",
       "      <th>1</th>\n",
       "      <td>3</td>\n",
       "    </tr>\n",
       "    <tr>\n",
       "      <th>2</th>\n",
       "      <td>5</td>\n",
       "    </tr>\n",
       "    <tr>\n",
       "      <th>3</th>\n",
       "      <td>7</td>\n",
       "    </tr>\n",
       "    <tr>\n",
       "      <th>4</th>\n",
       "      <td>10</td>\n",
       "    </tr>\n",
       "    <tr>\n",
       "      <th>5</th>\n",
       "      <td>15</td>\n",
       "    </tr>\n",
       "    <tr>\n",
       "      <th>6</th>\n",
       "      <td>20</td>\n",
       "    </tr>\n",
       "    <tr>\n",
       "      <th>7</th>\n",
       "      <td>30</td>\n",
       "    </tr>\n",
       "    <tr>\n",
       "      <th>8</th>\n",
       "      <td>50</td>\n",
       "    </tr>\n",
       "    <tr>\n",
       "      <th>9</th>\n",
       "      <td>100</td>\n",
       "    </tr>\n",
       "    <tr>\n",
       "      <th>10</th>\n",
       "      <td>214</td>\n",
       "    </tr>\n",
       "  </tbody>\n",
       "</table>\n",
       "</div>"
      ],
      "text/plain": [
       "    Number of Folds\n",
       "0                 2\n",
       "1                 3\n",
       "2                 5\n",
       "3                 7\n",
       "4                10\n",
       "5                15\n",
       "6                20\n",
       "7                30\n",
       "8                50\n",
       "9               100\n",
       "10              214"
      ]
     },
     "execution_count": 11,
     "metadata": {},
     "output_type": "execute_result"
    }
   ],
   "source": [
    "avg_metrics = pd.DataFrame({'Number of Folds':tested_kfolds})\n",
    "avg_metrics"
   ]
  },
  {
   "cell_type": "code",
   "execution_count": 12,
   "metadata": {
    "collapsed": true
   },
   "outputs": [],
   "source": [
    "accuracies = [np.asarray([m.accuracy() for m in res]) for res in results]\n",
    "avg_metrics['Accuracy Avg'] = [x.mean() for x in accuracies]\n",
    "avg_metrics['Accuracy Std'] = [x.std() for x in accuracies]"
   ]
  },
  {
   "cell_type": "code",
   "execution_count": 13,
   "metadata": {},
   "outputs": [
    {
     "name": "stderr",
     "output_type": "stream",
     "text": [
      "C:\\Users\\mkosturek\\Anaconda3\\lib\\site-packages\\sklearn\\metrics\\classification.py:1135: UndefinedMetricWarning: Precision is ill-defined and being set to 0.0 in labels with no predicted samples.\n",
      "  'precision', 'predicted', average, warn_for)\n"
     ]
    }
   ],
   "source": [
    "precisions = [np.asarray([m.precision() for m in res]) for res in results]\n",
    "avg_metrics['Precision Avg'] = [x.mean() for x in precisions]\n",
    "avg_metrics['Precision Std'] = [x.std() for x in precisions]"
   ]
  },
  {
   "cell_type": "code",
   "execution_count": 14,
   "metadata": {},
   "outputs": [
    {
     "name": "stderr",
     "output_type": "stream",
     "text": [
      "C:\\Users\\mkosturek\\Anaconda3\\lib\\site-packages\\sklearn\\metrics\\classification.py:1137: UndefinedMetricWarning: Recall is ill-defined and being set to 0.0 in labels with no true samples.\n",
      "  'recall', 'true', average, warn_for)\n"
     ]
    }
   ],
   "source": [
    "recalls = [np.asarray([m.recall() for m in res]) for res in results]\n",
    "avg_metrics['Recall Avg'] = [x.mean() for x in recalls]\n",
    "avg_metrics['Recall Std'] = [x.std() for x in recalls]"
   ]
  },
  {
   "cell_type": "code",
   "execution_count": 15,
   "metadata": {},
   "outputs": [
    {
     "name": "stderr",
     "output_type": "stream",
     "text": [
      "C:\\Users\\mkosturek\\Anaconda3\\lib\\site-packages\\sklearn\\metrics\\classification.py:1135: UndefinedMetricWarning: F-score is ill-defined and being set to 0.0 in labels with no predicted samples.\n",
      "  'precision', 'predicted', average, warn_for)\n",
      "C:\\Users\\mkosturek\\Anaconda3\\lib\\site-packages\\sklearn\\metrics\\classification.py:1137: UndefinedMetricWarning: F-score is ill-defined and being set to 0.0 in labels with no true samples.\n",
      "  'recall', 'true', average, warn_for)\n"
     ]
    }
   ],
   "source": [
    "fmeasures = [np.asarray([m.f_measure() for m in res]) for res in results]\n",
    "avg_metrics['F-measure Avg'] = [x.mean() for x in fmeasures]\n",
    "avg_metrics['F-measure Std'] = [x.std() for x in fmeasures]"
   ]
  },
  {
   "cell_type": "code",
   "execution_count": 16,
   "metadata": {},
   "outputs": [
    {
     "data": {
      "text/html": [
       "<div>\n",
       "<style>\n",
       "    .dataframe thead tr:only-child th {\n",
       "        text-align: right;\n",
       "    }\n",
       "\n",
       "    .dataframe thead th {\n",
       "        text-align: left;\n",
       "    }\n",
       "\n",
       "    .dataframe tbody tr th {\n",
       "        vertical-align: top;\n",
       "    }\n",
       "</style>\n",
       "<table border=\"1\" class=\"dataframe\">\n",
       "  <thead>\n",
       "    <tr style=\"text-align: right;\">\n",
       "      <th></th>\n",
       "      <th>Number of Folds</th>\n",
       "      <th>Accuracy Avg</th>\n",
       "      <th>Accuracy Std</th>\n",
       "      <th>Precision Avg</th>\n",
       "      <th>Precision Std</th>\n",
       "      <th>Recall Avg</th>\n",
       "      <th>Recall Std</th>\n",
       "      <th>F-measure Avg</th>\n",
       "      <th>F-measure Std</th>\n",
       "    </tr>\n",
       "  </thead>\n",
       "  <tbody>\n",
       "    <tr>\n",
       "      <th>0</th>\n",
       "      <td>2</td>\n",
       "      <td>0.350467</td>\n",
       "      <td>0.115922</td>\n",
       "      <td>0.457910</td>\n",
       "      <td>0.103605</td>\n",
       "      <td>0.350467</td>\n",
       "      <td>0.115922</td>\n",
       "      <td>0.325656</td>\n",
       "      <td>0.109536</td>\n",
       "    </tr>\n",
       "    <tr>\n",
       "      <th>1</th>\n",
       "      <td>3</td>\n",
       "      <td>0.412465</td>\n",
       "      <td>0.124119</td>\n",
       "      <td>0.464804</td>\n",
       "      <td>0.120776</td>\n",
       "      <td>0.412465</td>\n",
       "      <td>0.124119</td>\n",
       "      <td>0.382618</td>\n",
       "      <td>0.120361</td>\n",
       "    </tr>\n",
       "    <tr>\n",
       "      <th>2</th>\n",
       "      <td>5</td>\n",
       "      <td>0.432396</td>\n",
       "      <td>0.116820</td>\n",
       "      <td>0.487392</td>\n",
       "      <td>0.113717</td>\n",
       "      <td>0.432396</td>\n",
       "      <td>0.116820</td>\n",
       "      <td>0.406704</td>\n",
       "      <td>0.112838</td>\n",
       "    </tr>\n",
       "    <tr>\n",
       "      <th>3</th>\n",
       "      <td>7</td>\n",
       "      <td>0.446503</td>\n",
       "      <td>0.122787</td>\n",
       "      <td>0.510239</td>\n",
       "      <td>0.137235</td>\n",
       "      <td>0.446503</td>\n",
       "      <td>0.122787</td>\n",
       "      <td>0.420724</td>\n",
       "      <td>0.121154</td>\n",
       "    </tr>\n",
       "    <tr>\n",
       "      <th>4</th>\n",
       "      <td>10</td>\n",
       "      <td>0.463052</td>\n",
       "      <td>0.130083</td>\n",
       "      <td>0.511352</td>\n",
       "      <td>0.181595</td>\n",
       "      <td>0.463052</td>\n",
       "      <td>0.130083</td>\n",
       "      <td>0.433250</td>\n",
       "      <td>0.135407</td>\n",
       "    </tr>\n",
       "    <tr>\n",
       "      <th>5</th>\n",
       "      <td>15</td>\n",
       "      <td>0.467905</td>\n",
       "      <td>0.132971</td>\n",
       "      <td>0.510231</td>\n",
       "      <td>0.197294</td>\n",
       "      <td>0.467905</td>\n",
       "      <td>0.132971</td>\n",
       "      <td>0.442642</td>\n",
       "      <td>0.143177</td>\n",
       "    </tr>\n",
       "    <tr>\n",
       "      <th>6</th>\n",
       "      <td>20</td>\n",
       "      <td>0.471152</td>\n",
       "      <td>0.164312</td>\n",
       "      <td>0.509373</td>\n",
       "      <td>0.223194</td>\n",
       "      <td>0.471152</td>\n",
       "      <td>0.164312</td>\n",
       "      <td>0.447258</td>\n",
       "      <td>0.171476</td>\n",
       "    </tr>\n",
       "    <tr>\n",
       "      <th>7</th>\n",
       "      <td>30</td>\n",
       "      <td>0.482044</td>\n",
       "      <td>0.192170</td>\n",
       "      <td>0.502514</td>\n",
       "      <td>0.249335</td>\n",
       "      <td>0.482044</td>\n",
       "      <td>0.192170</td>\n",
       "      <td>0.457507</td>\n",
       "      <td>0.201632</td>\n",
       "    </tr>\n",
       "    <tr>\n",
       "      <th>8</th>\n",
       "      <td>50</td>\n",
       "      <td>0.477867</td>\n",
       "      <td>0.235330</td>\n",
       "      <td>0.494421</td>\n",
       "      <td>0.297816</td>\n",
       "      <td>0.477867</td>\n",
       "      <td>0.235330</td>\n",
       "      <td>0.458297</td>\n",
       "      <td>0.246139</td>\n",
       "    </tr>\n",
       "    <tr>\n",
       "      <th>9</th>\n",
       "      <td>100</td>\n",
       "      <td>0.480500</td>\n",
       "      <td>0.345365</td>\n",
       "      <td>0.491250</td>\n",
       "      <td>0.390243</td>\n",
       "      <td>0.480500</td>\n",
       "      <td>0.345365</td>\n",
       "      <td>0.470911</td>\n",
       "      <td>0.354179</td>\n",
       "    </tr>\n",
       "    <tr>\n",
       "      <th>10</th>\n",
       "      <td>214</td>\n",
       "      <td>0.481308</td>\n",
       "      <td>0.499651</td>\n",
       "      <td>0.481308</td>\n",
       "      <td>0.499651</td>\n",
       "      <td>0.481308</td>\n",
       "      <td>0.499651</td>\n",
       "      <td>0.481308</td>\n",
       "      <td>0.499651</td>\n",
       "    </tr>\n",
       "  </tbody>\n",
       "</table>\n",
       "</div>"
      ],
      "text/plain": [
       "    Number of Folds  Accuracy Avg  Accuracy Std  Precision Avg  Precision Std  \\\n",
       "0                 2      0.350467      0.115922       0.457910       0.103605   \n",
       "1                 3      0.412465      0.124119       0.464804       0.120776   \n",
       "2                 5      0.432396      0.116820       0.487392       0.113717   \n",
       "3                 7      0.446503      0.122787       0.510239       0.137235   \n",
       "4                10      0.463052      0.130083       0.511352       0.181595   \n",
       "5                15      0.467905      0.132971       0.510231       0.197294   \n",
       "6                20      0.471152      0.164312       0.509373       0.223194   \n",
       "7                30      0.482044      0.192170       0.502514       0.249335   \n",
       "8                50      0.477867      0.235330       0.494421       0.297816   \n",
       "9               100      0.480500      0.345365       0.491250       0.390243   \n",
       "10              214      0.481308      0.499651       0.481308       0.499651   \n",
       "\n",
       "    Recall Avg  Recall Std  F-measure Avg  F-measure Std  \n",
       "0     0.350467    0.115922       0.325656       0.109536  \n",
       "1     0.412465    0.124119       0.382618       0.120361  \n",
       "2     0.432396    0.116820       0.406704       0.112838  \n",
       "3     0.446503    0.122787       0.420724       0.121154  \n",
       "4     0.463052    0.130083       0.433250       0.135407  \n",
       "5     0.467905    0.132971       0.442642       0.143177  \n",
       "6     0.471152    0.164312       0.447258       0.171476  \n",
       "7     0.482044    0.192170       0.457507       0.201632  \n",
       "8     0.477867    0.235330       0.458297       0.246139  \n",
       "9     0.480500    0.345365       0.470911       0.354179  \n",
       "10    0.481308    0.499651       0.481308       0.499651  "
      ]
     },
     "execution_count": 16,
     "metadata": {},
     "output_type": "execute_result"
    }
   ],
   "source": [
    "avg_metrics"
   ]
  },
  {
   "cell_type": "code",
   "execution_count": 51,
   "metadata": {
    "scrolled": true
   },
   "outputs": [
    {
     "name": "stdout",
     "output_type": "stream",
     "text": [
      "\\begin{tabular}{lrrrrrrrrr}\n",
      "\\toprule\n",
      "{} &  Number of Folds &  Accuracy Avg &  Accuracy Std &  Precision Avg &  Precision Std &  Recall Avg &  Recall Std &  F-measure Avg &  F-measure Std \\\\\n",
      "\\midrule\n",
      "0  &                2 &        0.3517 &        0.1042 &         0.4614 &         0.0880 &      0.3517 &      0.1042 &         0.3318 &         0.0968 \\\\\n",
      "1  &                3 &        0.3967 &        0.1156 &         0.4690 &         0.0960 &      0.3967 &      0.1156 &         0.3722 &         0.1091 \\\\\n",
      "2  &                5 &        0.4351 &        0.1121 &         0.4937 &         0.1229 &      0.4351 &      0.1121 &         0.4080 &         0.1126 \\\\\n",
      "3  &                7 &        0.4473 &        0.1151 &         0.4972 &         0.1459 &      0.4473 &      0.1151 &         0.4217 &         0.1136 \\\\\n",
      "4  &               10 &        0.4621 &        0.1259 &         0.5203 &         0.1733 &      0.4621 &      0.1259 &         0.4367 &         0.1279 \\\\\n",
      "5  &               15 &        0.4699 &        0.1365 &         0.5131 &         0.1943 &      0.4699 &      0.1365 &         0.4428 &         0.1433 \\\\\n",
      "6  &               20 &        0.4772 &        0.1583 &         0.5034 &         0.2154 &      0.4772 &      0.1583 &         0.4496 &         0.1671 \\\\\n",
      "7  &               30 &        0.4773 &        0.1909 &         0.5033 &         0.2558 &      0.4773 &      0.1909 &         0.4534 &         0.1998 \\\\\n",
      "8  &               50 &        0.4799 &        0.2397 &         0.4930 &         0.3025 &      0.4799 &      0.2397 &         0.4590 &         0.2524 \\\\\n",
      "9  &              100 &        0.4832 &        0.3458 &         0.4927 &         0.3886 &      0.4832 &      0.3458 &         0.4735 &         0.3544 \\\\\n",
      "10 &              214 &        0.4813 &        0.4997 &         0.4813 &         0.4997 &      0.4813 &      0.4997 &         0.4813 &         0.4997 \\\\\n",
      "\\bottomrule\n",
      "\\end{tabular}\n",
      "\n"
     ]
    }
   ],
   "source": [
    "print(avg_metrics.to_latex(float_format=lambda x: '{:.4f}'.format(x)))"
   ]
  },
  {
   "cell_type": "code",
   "execution_count": 161,
   "metadata": {
    "collapsed": true
   },
   "outputs": [
    {
     "data": {
      "text/plain": [
       "(array([-0.2,  0. ,  0.2,  0.4,  0.6,  0.8,  1. ,  1.2]),\n",
       " <a list of 8 Text yticklabel objects>)"
      ]
     },
     "execution_count": 161,
     "metadata": {},
     "output_type": "execute_result"
    },
    {
     "data": {
      "image/png": "[encoded data removed]",
      "text/plain": [
       "<matplotlib.figure.Figure at 0x2540d2d15c0>"
      ]
     },
     "metadata": {},
     "output_type": "display_data"
    }
   ],
   "source": [
    "f = plt.figure(figsize=(16,10))\n",
    "eb = plt.errorbar(range(len(avg_metrics['Number of Folds'])), \n",
    "                  avg_metrics['Accuracy Avg'],\n",
    "                  avg_metrics['Accuracy Std'], \n",
    "                  color='green', marker='o', \n",
    "                  markersize=10, linewidth=0,\n",
    "                  elinewidth=1, ecolor='r',\n",
    "                  capsize=5, capthick=1)\n",
    "\n",
    "plt.grid()\n",
    "plt.ylabel('Accuracy', size=20)\n",
    "plt.xlabel('Number of folds', size=20)\n",
    "plt.xticks(range(len(avg_metrics['Number of Folds'])), avg_metrics['Number of Folds'], size=15)\n",
    "plt.yticks(size=15)"
   ]
  },
  {
   "cell_type": "code",
   "execution_count": 163,
   "metadata": {},
   "outputs": [
    {
     "data": {
      "text/plain": [
       "(array([-0.2,  0. ,  0.2,  0.4,  0.6,  0.8,  1. ,  1.2]),\n",
       " <a list of 8 Text yticklabel objects>)"
      ]
     },
     "execution_count": 163,
     "metadata": {},
     "output_type": "execute_result"
    },
    {
     "data": {
      "image/png": "[encoded data removed]",
      "text/plain": [
       "<matplotlib.figure.Figure at 0x2540d5b86d8>"
      ]
     },
     "metadata": {},
     "output_type": "display_data"
    }
   ],
   "source": [
    "f = plt.figure(figsize=(16,10))\n",
    "eb = plt.errorbar(avg_metrics['Number of Folds'], \n",
    "                  avg_metrics['F-measure Avg'],\n",
    "                  avg_metrics['F-measure Std'], \n",
    "                  color='green', marker='o', \n",
    "                  markersize=10, linewidth=0,\n",
    "                  elinewidth=1, ecolor='r',\n",
    "                  capsize=5, capthick=1)\n",
    "plt.grid()\n",
    "plt.ylabel('F-measure', size=20)\n",
    "plt.xlabel('Liczba podzbiorów', size=20)\n",
    "plt.xticks(size=15)\n",
    "plt.yticks(size=15)"
   ]
  },
  {
   "cell_type": "markdown",
   "metadata": {},
   "source": [
    "## Stratified CV"
   ]
  },
  {
   "cell_type": "code",
   "execution_count": 26,
   "metadata": {
    "collapsed": true
   },
   "outputs": [],
   "source": [
    "tested_str_kfolds = [2, 3, 5, 7, 10, 15]"
   ]
  },
  {
   "cell_type": "code",
   "execution_count": 27,
   "metadata": {},
   "outputs": [
    {
     "name": "stderr",
     "output_type": "stream",
     "text": [
      " 67%|█████████████████████████████████████████████████████████████████████████████▎                                      | 4/6 [00:01<00:00,  2.25it/s]C:\\Users\\mkosturek\\Anaconda3\\lib\\site-packages\\sklearn\\model_selection\\_split.py:605: Warning: The least populated class in y has only 9 members, which is too few. The minimum number of members in any class cannot be less than n_splits=10.\n",
      "  % (min_groups, self.n_splits)), Warning)\n",
      " 83%|████████████████████████████████████████████████████████████████████████████████████████████████▋                   | 5/6 [00:02<00:00,  1.92it/s]C:\\Users\\mkosturek\\Anaconda3\\lib\\site-packages\\sklearn\\model_selection\\_split.py:605: Warning: The least populated class in y has only 9 members, which is too few. The minimum number of members in any class cannot be less than n_splits=15.\n",
      "  % (min_groups, self.n_splits)), Warning)\n",
      "100%|████████████████████████████████████████████████████████████████████████████████████████████████████████████████████| 6/6 [00:03<00:00,  1.58it/s]\n"
     ]
    },
    {
     "name": "stdout",
     "output_type": "stream",
     "text": [
      "Wall time: 3.81 s\n"
     ]
    }
   ],
   "source": [
    "%%time\n",
    "str_results = []\n",
    "\n",
    "for k in tqdm.tqdm(tested_str_kfolds):\n",
    "    kfold_results = []\n",
    "    for _ in range(nb_repetitions):\n",
    "        strcv = CrossValidator(X, Y, \n",
    "                            lambda: GaussianNaiveBayes())\n",
    "                            #lambda: NaiveBayes(zero_frequency_fill=True))\n",
    "        metr_evals = strcv.stratified_kfold_cross_validation(k)\n",
    "        kfold_results += metr_evals\n",
    "    str_results.append(kfold_results)"
   ]
  },
  {
   "cell_type": "code",
   "execution_count": 23,
   "metadata": {},
   "outputs": [
    {
     "data": {
      "text/plain": [
       "6"
      ]
     },
     "execution_count": 23,
     "metadata": {},
     "output_type": "execute_result"
    }
   ],
   "source": [
    "len(str_results)"
   ]
  },
  {
   "cell_type": "code",
   "execution_count": 24,
   "metadata": {},
   "outputs": [
    {
     "data": {
      "text/plain": [
       "1260"
      ]
     },
     "execution_count": 24,
     "metadata": {},
     "output_type": "execute_result"
    }
   ],
   "source": [
    "sum([len(r) for r in str_results])"
   ]
  },
  {
   "cell_type": "code",
   "execution_count": 28,
   "metadata": {
    "scrolled": true
   },
   "outputs": [
    {
     "data": {
      "text/html": [
       "<div>\n",
       "<style>\n",
       "    .dataframe thead tr:only-child th {\n",
       "        text-align: right;\n",
       "    }\n",
       "\n",
       "    .dataframe thead th {\n",
       "        text-align: left;\n",
       "    }\n",
       "\n",
       "    .dataframe tbody tr th {\n",
       "        vertical-align: top;\n",
       "    }\n",
       "</style>\n",
       "<table border=\"1\" class=\"dataframe\">\n",
       "  <thead>\n",
       "    <tr style=\"text-align: right;\">\n",
       "      <th></th>\n",
       "      <th>Number of Folds</th>\n",
       "    </tr>\n",
       "  </thead>\n",
       "  <tbody>\n",
       "    <tr>\n",
       "      <th>0</th>\n",
       "      <td>2</td>\n",
       "    </tr>\n",
       "    <tr>\n",
       "      <th>1</th>\n",
       "      <td>3</td>\n",
       "    </tr>\n",
       "    <tr>\n",
       "      <th>2</th>\n",
       "      <td>5</td>\n",
       "    </tr>\n",
       "    <tr>\n",
       "      <th>3</th>\n",
       "      <td>7</td>\n",
       "    </tr>\n",
       "    <tr>\n",
       "      <th>4</th>\n",
       "      <td>10</td>\n",
       "    </tr>\n",
       "    <tr>\n",
       "      <th>5</th>\n",
       "      <td>15</td>\n",
       "    </tr>\n",
       "  </tbody>\n",
       "</table>\n",
       "</div>"
      ],
      "text/plain": [
       "   Number of Folds\n",
       "0                2\n",
       "1                3\n",
       "2                5\n",
       "3                7\n",
       "4               10\n",
       "5               15"
      ]
     },
     "execution_count": 28,
     "metadata": {},
     "output_type": "execute_result"
    }
   ],
   "source": [
    "avg_str_metrics = pd.DataFrame({'Number of Folds':tested_str_kfolds})\n",
    "avg_str_metrics"
   ]
  },
  {
   "cell_type": "code",
   "execution_count": 29,
   "metadata": {
    "collapsed": true
   },
   "outputs": [],
   "source": [
    "str_accuracies = [np.asarray([m.accuracy() for m in res]) for res in str_results]\n",
    "avg_str_metrics['Accuracy Avg'] = [x.mean() for x in str_accuracies]\n",
    "avg_str_metrics['Accuracy Std'] = [x.std() for x in str_accuracies]"
   ]
  },
  {
   "cell_type": "code",
   "execution_count": 30,
   "metadata": {},
   "outputs": [
    {
     "name": "stderr",
     "output_type": "stream",
     "text": [
      "C:\\Users\\mkosturek\\Anaconda3\\lib\\site-packages\\sklearn\\metrics\\classification.py:1135: UndefinedMetricWarning: Precision is ill-defined and being set to 0.0 in labels with no predicted samples.\n",
      "  'precision', 'predicted', average, warn_for)\n"
     ]
    }
   ],
   "source": [
    "str_precisions = [np.asarray([m.precision() for m in res]) for res in str_results]\n",
    "avg_str_metrics['Precision Avg'] = [x.mean() for x in str_precisions]\n",
    "avg_str_metrics['Precision Std'] = [x.std() for x in str_precisions]"
   ]
  },
  {
   "cell_type": "code",
   "execution_count": 31,
   "metadata": {},
   "outputs": [
    {
     "name": "stderr",
     "output_type": "stream",
     "text": [
      "C:\\Users\\mkosturek\\Anaconda3\\lib\\site-packages\\sklearn\\metrics\\classification.py:1137: UndefinedMetricWarning: Recall is ill-defined and being set to 0.0 in labels with no true samples.\n",
      "  'recall', 'true', average, warn_for)\n"
     ]
    }
   ],
   "source": [
    "str_recalls = [np.asarray([m.recall() for m in res]) for res in str_results]\n",
    "avg_str_metrics['Recall Avg'] = [x.mean() for x in str_recalls]\n",
    "avg_str_metrics['Recall Std'] = [x.std() for x in str_recalls]"
   ]
  },
  {
   "cell_type": "code",
   "execution_count": 32,
   "metadata": {},
   "outputs": [
    {
     "name": "stderr",
     "output_type": "stream",
     "text": [
      "C:\\Users\\mkosturek\\Anaconda3\\lib\\site-packages\\sklearn\\metrics\\classification.py:1135: UndefinedMetricWarning: F-score is ill-defined and being set to 0.0 in labels with no predicted samples.\n",
      "  'precision', 'predicted', average, warn_for)\n",
      "C:\\Users\\mkosturek\\Anaconda3\\lib\\site-packages\\sklearn\\metrics\\classification.py:1137: UndefinedMetricWarning: F-score is ill-defined and being set to 0.0 in labels with no true samples.\n",
      "  'recall', 'true', average, warn_for)\n"
     ]
    }
   ],
   "source": [
    "str_fmeasures = [np.asarray([m.f_measure() for m in res]) for res in str_results]\n",
    "avg_str_metrics['F-measure Avg'] = [x.mean() for x in str_fmeasures]\n",
    "avg_str_metrics['F-measure Std'] = [x.std() for x in str_fmeasures]"
   ]
  },
  {
   "cell_type": "code",
   "execution_count": 33,
   "metadata": {},
   "outputs": [
    {
     "data": {
      "text/html": [
       "<div>\n",
       "<style>\n",
       "    .dataframe thead tr:only-child th {\n",
       "        text-align: right;\n",
       "    }\n",
       "\n",
       "    .dataframe thead th {\n",
       "        text-align: left;\n",
       "    }\n",
       "\n",
       "    .dataframe tbody tr th {\n",
       "        vertical-align: top;\n",
       "    }\n",
       "</style>\n",
       "<table border=\"1\" class=\"dataframe\">\n",
       "  <thead>\n",
       "    <tr style=\"text-align: right;\">\n",
       "      <th></th>\n",
       "      <th>Number of Folds</th>\n",
       "      <th>Accuracy Avg</th>\n",
       "      <th>Accuracy Std</th>\n",
       "      <th>Precision Avg</th>\n",
       "      <th>Precision Std</th>\n",
       "      <th>Recall Avg</th>\n",
       "      <th>Recall Std</th>\n",
       "      <th>F-measure Avg</th>\n",
       "      <th>F-measure Std</th>\n",
       "    </tr>\n",
       "  </thead>\n",
       "  <tbody>\n",
       "    <tr>\n",
       "      <th>0</th>\n",
       "      <td>2</td>\n",
       "      <td>0.372885</td>\n",
       "      <td>0.109975</td>\n",
       "      <td>0.464360</td>\n",
       "      <td>0.088889</td>\n",
       "      <td>0.372885</td>\n",
       "      <td>0.109975</td>\n",
       "      <td>0.347455</td>\n",
       "      <td>0.100626</td>\n",
       "    </tr>\n",
       "    <tr>\n",
       "      <th>1</th>\n",
       "      <td>3</td>\n",
       "      <td>0.395910</td>\n",
       "      <td>0.123483</td>\n",
       "      <td>0.448446</td>\n",
       "      <td>0.101182</td>\n",
       "      <td>0.395910</td>\n",
       "      <td>0.123483</td>\n",
       "      <td>0.364133</td>\n",
       "      <td>0.113655</td>\n",
       "    </tr>\n",
       "    <tr>\n",
       "      <th>2</th>\n",
       "      <td>5</td>\n",
       "      <td>0.426286</td>\n",
       "      <td>0.119559</td>\n",
       "      <td>0.465274</td>\n",
       "      <td>0.121946</td>\n",
       "      <td>0.426286</td>\n",
       "      <td>0.119559</td>\n",
       "      <td>0.399237</td>\n",
       "      <td>0.112407</td>\n",
       "    </tr>\n",
       "    <tr>\n",
       "      <th>3</th>\n",
       "      <td>7</td>\n",
       "      <td>0.452757</td>\n",
       "      <td>0.114987</td>\n",
       "      <td>0.472644</td>\n",
       "      <td>0.133703</td>\n",
       "      <td>0.452757</td>\n",
       "      <td>0.114987</td>\n",
       "      <td>0.418860</td>\n",
       "      <td>0.111075</td>\n",
       "    </tr>\n",
       "    <tr>\n",
       "      <th>4</th>\n",
       "      <td>10</td>\n",
       "      <td>0.462400</td>\n",
       "      <td>0.107604</td>\n",
       "      <td>0.477525</td>\n",
       "      <td>0.134670</td>\n",
       "      <td>0.462400</td>\n",
       "      <td>0.107604</td>\n",
       "      <td>0.426743</td>\n",
       "      <td>0.102242</td>\n",
       "    </tr>\n",
       "    <tr>\n",
       "      <th>5</th>\n",
       "      <td>15</td>\n",
       "      <td>0.473628</td>\n",
       "      <td>0.125350</td>\n",
       "      <td>0.460706</td>\n",
       "      <td>0.169421</td>\n",
       "      <td>0.473628</td>\n",
       "      <td>0.125350</td>\n",
       "      <td>0.431065</td>\n",
       "      <td>0.124590</td>\n",
       "    </tr>\n",
       "  </tbody>\n",
       "</table>\n",
       "</div>"
      ],
      "text/plain": [
       "   Number of Folds  Accuracy Avg  Accuracy Std  Precision Avg  Precision Std  \\\n",
       "0                2      0.372885      0.109975       0.464360       0.088889   \n",
       "1                3      0.395910      0.123483       0.448446       0.101182   \n",
       "2                5      0.426286      0.119559       0.465274       0.121946   \n",
       "3                7      0.452757      0.114987       0.472644       0.133703   \n",
       "4               10      0.462400      0.107604       0.477525       0.134670   \n",
       "5               15      0.473628      0.125350       0.460706       0.169421   \n",
       "\n",
       "   Recall Avg  Recall Std  F-measure Avg  F-measure Std  \n",
       "0    0.372885    0.109975       0.347455       0.100626  \n",
       "1    0.395910    0.123483       0.364133       0.113655  \n",
       "2    0.426286    0.119559       0.399237       0.112407  \n",
       "3    0.452757    0.114987       0.418860       0.111075  \n",
       "4    0.462400    0.107604       0.426743       0.102242  \n",
       "5    0.473628    0.125350       0.431065       0.124590  "
      ]
     },
     "execution_count": 33,
     "metadata": {},
     "output_type": "execute_result"
    }
   ],
   "source": [
    "avg_str_metrics"
   ]
  },
  {
   "cell_type": "code",
   "execution_count": 34,
   "metadata": {
    "scrolled": true
   },
   "outputs": [
    {
     "name": "stdout",
     "output_type": "stream",
     "text": [
      "\\begin{tabular}{lrrrrrrrrr}\n",
      "\\toprule\n",
      "{} &  Number of Folds &  Accuracy Avg &  Accuracy Std &  Precision Avg &  Precision Std &  Recall Avg &  Recall Std &  F-measure Avg &  F-measure Std \\\\\n",
      "\\midrule\n",
      "0 &                2 &        0.3729 &        0.1100 &         0.4644 &         0.0889 &      0.3729 &      0.1100 &         0.3475 &         0.1006 \\\\\n",
      "1 &                3 &        0.3959 &        0.1235 &         0.4484 &         0.1012 &      0.3959 &      0.1235 &         0.3641 &         0.1137 \\\\\n",
      "2 &                5 &        0.4263 &        0.1196 &         0.4653 &         0.1219 &      0.4263 &      0.1196 &         0.3992 &         0.1124 \\\\\n",
      "3 &                7 &        0.4528 &        0.1150 &         0.4726 &         0.1337 &      0.4528 &      0.1150 &         0.4189 &         0.1111 \\\\\n",
      "4 &               10 &        0.4624 &        0.1076 &         0.4775 &         0.1347 &      0.4624 &      0.1076 &         0.4267 &         0.1022 \\\\\n",
      "5 &               15 &        0.4736 &        0.1253 &         0.4607 &         0.1694 &      0.4736 &      0.1253 &         0.4311 &         0.1246 \\\\\n",
      "\\bottomrule\n",
      "\\end{tabular}\n",
      "\n"
     ]
    }
   ],
   "source": [
    "print(avg_str_metrics.to_latex(float_format=lambda x: '{:.4f}'.format(x)))"
   ]
  },
  {
   "cell_type": "code",
   "execution_count": 39,
   "metadata": {},
   "outputs": [
    {
     "data": {
      "text/plain": [
       "(array([ 0.2 ,  0.25,  0.3 ,  0.35,  0.4 ,  0.45,  0.5 ,  0.55,  0.6 ,  0.65]),\n",
       " <a list of 10 Text yticklabel objects>)"
      ]
     },
     "execution_count": 39,
     "metadata": {},
     "output_type": "execute_result"
    },
    {
     "data": {
      "image/png": "[encoded data removed]",
      "text/plain": [
       "<matplotlib.figure.Figure at 0x10702ddf240>"
      ]
     },
     "metadata": {},
     "output_type": "display_data"
    }
   ],
   "source": [
    "f = plt.figure(figsize=(7,14))\n",
    "eb = plt.errorbar(range(len(avg_str_metrics['Number of Folds'])), \n",
    "                  avg_str_metrics['Accuracy Avg'],\n",
    "                  avg_str_metrics['Accuracy Std'], \n",
    "                  color='green', marker='o', \n",
    "                  markersize=10, linewidth=0,\n",
    "                  elinewidth=1, ecolor='r',\n",
    "                  capsize=5, capthick=1)\n",
    "\n",
    "plt.grid()\n",
    "plt.ylabel('Accuracy', size=20)\n",
    "plt.xlabel('Number of folds', size=20)\n",
    "plt.xticks(range(len(avg_str_metrics['Number of Folds'])), avg_str_metrics['Number of Folds'], size=15)\n",
    "plt.yticks(size=15)"
   ]
  },
  {
   "cell_type": "code",
   "execution_count": 36,
   "metadata": {},
   "outputs": [
    {
     "data": {
      "text/plain": [
       "(array([ 0.2 ,  0.25,  0.3 ,  0.35,  0.4 ,  0.45,  0.5 ,  0.55,  0.6 ]),\n",
       " <a list of 9 Text yticklabel objects>)"
      ]
     },
     "execution_count": 36,
     "metadata": {},
     "output_type": "execute_result"
    },
    {
     "data": {
      "image/png": "[encoded data removed]",
      "text/plain": [
       "<matplotlib.figure.Figure at 0x10702503860>"
      ]
     },
     "metadata": {},
     "output_type": "display_data"
    }
   ],
   "source": [
    "f = plt.figure(figsize=(16,10))\n",
    "eb = plt.errorbar(avg_str_metrics['Number of Folds'], \n",
    "                  avg_str_metrics['F-measure Avg'],\n",
    "                  avg_str_metrics['F-measure Std'], \n",
    "                  color='green', marker='o', \n",
    "                  markersize=10, linewidth=0,\n",
    "                  elinewidth=1, ecolor='r',\n",
    "                  capsize=5, capthick=1)\n",
    "plt.grid()\n",
    "plt.ylabel('F-measure', size=20)\n",
    "plt.xlabel('Liczba podzbiorów', size=20)\n",
    "plt.xticks(size=15)\n",
    "plt.yticks(size=15)"
   ]
  },
  {
   "cell_type": "markdown",
   "metadata": {},
   "source": [
    "# Double Chart"
   ]
  },
  {
   "cell_type": "code",
   "execution_count": 123,
   "metadata": {},
   "outputs": [
    {
     "data": {
      "text/plain": [
       "[Text(0,0,'2'),\n",
       " Text(0,0,'3'),\n",
       " Text(0,0,'5'),\n",
       " Text(0,0,'7'),\n",
       " Text(0,0,'10'),\n",
       " Text(0,0,'15')]"
      ]
     },
     "execution_count": 123,
     "metadata": {},
     "output_type": "execute_result"
    },
    {
     "data": {
      "image/png": "[encoded data removed]",
      "text/plain": [
       "<matplotlib.figure.Figure at 0x10711ea7320>"
      ]
     },
     "metadata": {},
     "output_type": "display_data"
    }
   ],
   "source": [
    "f, ax = plt.subplots(ncols=2, figsize=(16,8), sharey=True)\n",
    "eb = ax[0].errorbar(range(len(tested_kfolds)), \n",
    "                  avg_metrics['F-measure Avg'],\n",
    "                  avg_metrics['F-measure Std'], \n",
    "                  color='green', marker='o', \n",
    "                  markersize=10, linewidth=0,\n",
    "                  elinewidth=1, ecolor='r',\n",
    "                  capsize=5, capthick=1)\n",
    "\n",
    "eb = ax[1].errorbar(range(len(tested_str_kfolds)), \n",
    "                  avg_str_metrics['F-measure Avg'],\n",
    "                  avg_str_metrics['F-measure Std'], \n",
    "                  color='green', marker='o', \n",
    "                  markersize=10, linewidth=0,\n",
    "                  elinewidth=1, ecolor='r',\n",
    "                  capsize=5, capthick=1)\n",
    "for i in range(2):\n",
    "    ax[i].grid()\n",
    "    ax[i].set_ylabel('F-measure', size=20)\n",
    "    ax[i].set_xlabel('Liczba podzbiorów', size=20)\n",
    "    \n",
    "    \n",
    "ax[0].set_title('K-Fold', size=20)\n",
    "ax[0].set_xticks(range(len(tested_kfolds)))\n",
    "ax[0].set_xticklabels(tested_kfolds, size=12)\n",
    "\n",
    "ax[1].set_title('K-Fold Stratyfikowany', size=20)\n",
    "ax[1].set_xticks(range(len(tested_str_kfolds)))\n",
    "ax[1].set_xticklabels(tested_str_kfolds, size=12)\n",
    "#ax[1].set_xtickslabels(tested_str_kfolds)#, size=15)"
   ]
  },
  {
   "cell_type": "code",
   "execution_count": null,
   "metadata": {
    "collapsed": true
   },
   "outputs": [],
   "source": [
    "f = plt.figure(figsize=(16,10))\n",
    "eb = plt.errorbar(avg_str_metrics['Number of Folds'], \n",
    "                  avg_str_metrics['F-measure Avg'],\n",
    "                  avg_str_metrics['F-measure Std'], \n",
    "                  color='green', marker='o', \n",
    "                  markersize=10, linewidth=0,\n",
    "                  elinewidth=1, ecolor='r',\n",
    "                  capsize=5, capthick=1)\n",
    "plt.grid()\n",
    "plt.ylabel('F-measure', size=20)\n",
    "plt.xlabel('Liczba podzbiorów', size=20)\n",
    "plt.xticks(size=15)\n",
    "plt.yticks(size=15)"
   ]
  }
 ],
 "metadata": {
  "kernelspec": {
   "display_name": "Python 3",
   "language": "python",
   "name": "python3"
  },
  "language_info": {
   "codemirror_mode": {
    "name": "ipython",
    "version": 3
   },
   "file_extension": ".py",
   "mimetype": "text/x-python",
   "name": "python",
   "nbconvert_exporter": "python",
   "pygments_lexer": "ipython3",
   "version": "3.6.3"
  },
  "toc": {
   "nav_menu": {},
   "number_sections": true,
   "sideBar": true,
   "skip_h1_title": false,
   "toc_cell": false,
   "toc_position": {},
   "toc_section_display": "block",
   "toc_window_display": false
  }
 },
 "nbformat": 4,
 "nbformat_minor": 2
}
