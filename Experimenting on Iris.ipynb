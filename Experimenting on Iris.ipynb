{
 "cells": [
  {
   "cell_type": "code",
   "execution_count": 2,
   "metadata": {
    "collapsed": true
   },
   "outputs": [],
   "source": [
    "%matplotlib inline"
   ]
  },
  {
   "cell_type": "code",
   "execution_count": 3,
   "metadata": {
    "collapsed": true
   },
   "outputs": [],
   "source": [
    "from src.utils.load_processed_data import load_iris\n",
    "from src.naive_bayes import (NaiveBayes, \n",
    "                             GaussianNaiveBayes, \n",
    "                             MixedNaiveBayes)\n",
    "from src.evaluators import MetricsEvaluator\n",
    "from src.digitisers import (MultipleAttributeTransformer,\n",
    "                            RoundDigitizer, KMeansDigitizer,\n",
    "                            DiscreteEncoder)\n",
    "from src.cross_validation import CrossValidator"
   ]
  },
  {
   "cell_type": "code",
   "execution_count": 4,
   "metadata": {
    "collapsed": true
   },
   "outputs": [],
   "source": [
    "import pandas as pd\n",
    "import numpy as np\n",
    "import seaborn as sbn\n",
    "from matplotlib import pyplot as plt"
   ]
  },
  {
   "cell_type": "markdown",
   "metadata": {},
   "source": [
    "# Iris"
   ]
  },
  {
   "cell_type": "code",
   "execution_count": 5,
   "metadata": {},
   "outputs": [],
   "source": [
    "X, Y = load_iris()"
   ]
  },
  {
   "cell_type": "code",
   "execution_count": 80,
   "metadata": {
    "collapsed": true
   },
   "outputs": [],
   "source": [
    "transformers = {i: DiscreteEncoder() for i in range(X.shape[1])}\n",
    "transformer = lambda: MultipleAttributeTransformer(transformers)"
   ]
  },
  {
   "cell_type": "code",
   "execution_count": 84,
   "metadata": {
    "collapsed": true
   },
   "outputs": [],
   "source": [
    "cv = CrossValidator(X, Y, lambda: NaiveBayes(True), transformer)"
   ]
  },
  {
   "cell_type": "code",
   "execution_count": 132,
   "metadata": {
    "scrolled": true
   },
   "outputs": [
    {
     "data": {
      "text/html": [
       "<div>\n",
       "<style>\n",
       "    .dataframe thead tr:only-child th {\n",
       "        text-align: right;\n",
       "    }\n",
       "\n",
       "    .dataframe thead th {\n",
       "        text-align: left;\n",
       "    }\n",
       "\n",
       "    .dataframe tbody tr th {\n",
       "        vertical-align: top;\n",
       "    }\n",
       "</style>\n",
       "<table border=\"1\" class=\"dataframe\">\n",
       "  <thead>\n",
       "    <tr style=\"text-align: right;\">\n",
       "      <th></th>\n",
       "      <th>Value</th>\n",
       "    </tr>\n",
       "  </thead>\n",
       "  <tbody>\n",
       "    <tr>\n",
       "      <th>Accuracy</th>\n",
       "      <td>0.933333</td>\n",
       "    </tr>\n",
       "    <tr>\n",
       "      <th>Precision</th>\n",
       "      <td>0.933333</td>\n",
       "    </tr>\n",
       "    <tr>\n",
       "      <th>Recall</th>\n",
       "      <td>0.933333</td>\n",
       "    </tr>\n",
       "    <tr>\n",
       "      <th>F Measure</th>\n",
       "      <td>0.933333</td>\n",
       "    </tr>\n",
       "  </tbody>\n",
       "</table>\n",
       "</div>"
      ],
      "text/plain": [
       "              Value\n",
       "Accuracy   0.933333\n",
       "Precision  0.933333\n",
       "Recall     0.933333\n",
       "F Measure  0.933333"
      ]
     },
     "execution_count": 132,
     "metadata": {},
     "output_type": "execute_result"
    }
   ],
   "source": [
    "mevs = cv.kfold_cross_validation(10, shuffle=True)\n",
    "\n",
    "df = pd.DataFrame()#{\"Value\": [0,0,0,0]}, \n",
    "                  #index=['Accuracy','Precision','Recall','F Measure'])\n",
    "\n",
    "df.loc['Accuracy','Value'] = np.asarray([m.accuracy() for m in mevs])[0]#.mean()\n",
    "df.loc['Precision','Value'] = np.asarray([m.precision() for m in mevs])[0]#.mean()\n",
    "df.loc['Recall','Value'] = np.asarray([m.recall() for m in mevs])[0]#.mean()\n",
    "df.loc['F Measure','Value'] = np.asarray([m.f_measure() for m in mevs])[0]#.mean()\n",
    "df\n",
    "#print(np.asarray([m.confusion_matrix() for m in mevs]))"
   ]
  },
  {
   "cell_type": "code",
   "execution_count": 73,
   "metadata": {
    "scrolled": true
   },
   "outputs": [
    {
     "name": "stdout",
     "output_type": "stream",
     "text": [
      "0.913333333333\n",
      "0.913333333333\n",
      "0.913333333333\n",
      "0.913333333333\n",
      "[[[5 0 0]\n",
      "  [0 4 1]\n",
      "  [0 0 5]]\n",
      "\n",
      " [[5 0 0]\n",
      "  [0 5 0]\n",
      "  [0 1 4]]\n",
      "\n",
      " [[5 0 0]\n",
      "  [0 5 0]\n",
      "  [0 2 3]]\n",
      "\n",
      " [[5 0 0]\n",
      "  [0 4 1]\n",
      "  [0 0 5]]\n",
      "\n",
      " [[5 0 0]\n",
      "  [0 4 1]\n",
      "  [0 0 5]]\n",
      "\n",
      " [[5 0 0]\n",
      "  [0 2 3]\n",
      "  [0 0 5]]\n",
      "\n",
      " [[5 0 0]\n",
      "  [0 5 0]\n",
      "  [0 1 4]]\n",
      "\n",
      " [[5 0 0]\n",
      "  [0 5 0]\n",
      "  [0 0 5]]\n",
      "\n",
      " [[5 0 0]\n",
      "  [0 4 1]\n",
      "  [0 0 5]]\n",
      "\n",
      " [[5 0 0]\n",
      "  [1 4 0]\n",
      "  [0 1 4]]]\n"
     ]
    }
   ],
   "source": [
    "mevs = cv.stratified_kfold_cross_validation(10, True)\n",
    "\n",
    "print(np.asarray([m.accuracy() for m in mevs]).mean())\n",
    "print(np.asarray([m.f_measure() for m in mevs]).mean())\n",
    "print(np.asarray([m.precision() for m in mevs]).mean())\n",
    "print(np.asarray([m.recall() for m in mevs]).mean())\n",
    "print(np.asarray([m.confusion_matrix() for m in mevs]))"
   ]
  },
  {
   "cell_type": "code",
   "execution_count": null,
   "metadata": {
    "collapsed": true
   },
   "outputs": [],
   "source": []
  }
 ],
 "metadata": {
  "kernelspec": {
   "display_name": "Python 3",
   "language": "python",
   "name": "python3"
  },
  "language_info": {
   "codemirror_mode": {
    "name": "ipython",
    "version": 3
   },
   "file_extension": ".py",
   "mimetype": "text/x-python",
   "name": "python",
   "nbconvert_exporter": "python",
   "pygments_lexer": "ipython3",
   "version": "3.6.3"
  },
  "toc": {
   "nav_menu": {},
   "number_sections": true,
   "sideBar": true,
   "skip_h1_title": false,
   "toc_cell": false,
   "toc_position": {},
   "toc_section_display": "block",
   "toc_window_display": false
  }
 },
 "nbformat": 4,
 "nbformat_minor": 2
}
