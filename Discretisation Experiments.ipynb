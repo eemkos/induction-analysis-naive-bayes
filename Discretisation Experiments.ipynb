{
 "cells": [
  {
   "cell_type": "code",
   "execution_count": 1,
   "metadata": {
    "collapsed": true
   },
   "outputs": [],
   "source": [
    "from src.utils.load_processed_data import load_wine, load_glass, load_pima_diabetes\n",
    "from src.naive_bayes import GaussianNaiveBayes, NaiveBayes, MixedNaiveBayes\n",
    "from src.cross_validation import CrossValidator\n",
    "from src.evaluators import MetricsEvaluator\n",
    "from src.digitisers import (DataTransformer, DiscreteEncoder, \n",
    "                            RoundDigitizer, KMeansDigitizer, \n",
    "                            MultipleAttributeTransformer)\n",
    "import time"
   ]
  },
  {
   "cell_type": "code",
   "execution_count": 21,
   "metadata": {
    "collapsed": true
   },
   "outputs": [],
   "source": [
    "import pandas as pd\n",
    "import numpy as np\n",
    "import tqdm"
   ]
  },
  {
   "cell_type": "markdown",
   "metadata": {},
   "source": [
    "# Loading data"
   ]
  },
  {
   "cell_type": "code",
   "execution_count": 3,
   "metadata": {},
   "outputs": [
    {
     "data": {
      "text/plain": [
       "3"
      ]
     },
     "execution_count": 3,
     "metadata": {},
     "output_type": "execute_result"
    }
   ],
   "source": [
    "data = load_wine()\n",
    "X, Y = data\n",
    "X.shape\n",
    "len(set(Y))"
   ]
  },
  {
   "cell_type": "code",
   "execution_count": 4,
   "metadata": {
    "collapsed": true
   },
   "outputs": [],
   "source": [
    "nb_repetitions = 100\n",
    "nb_folds = 10"
   ]
  },
  {
   "cell_type": "markdown",
   "metadata": {},
   "source": [
    "## Classical NB - no Discretisation"
   ]
  },
  {
   "cell_type": "code",
   "execution_count": 6,
   "metadata": {
    "collapsed": true
   },
   "outputs": [],
   "source": [
    "enc = MultipleAttributeTransformer({i: DiscreteEncoder() for i in range(X.shape[1])})\n",
    "enc.fit(X)\n",
    "x = enc.transform(X)"
   ]
  },
  {
   "cell_type": "code",
   "execution_count": 7,
   "metadata": {
    "collapsed": true
   },
   "outputs": [],
   "source": [
    "tic = time.time()\n",
    "metrics_evals = []\n",
    "for _ in range(nb_repetitions):\n",
    "    cv = CrossValidator(x,Y, lambda: NaiveBayes(zero_frequency_fill=True))\n",
    "    metrics_evals += cv.kfold_cross_validation(nb_folds, shuffle=True)\n",
    "toc = time.time()\n",
    "base_time = toc-tic"
   ]
  },
  {
   "cell_type": "code",
   "execution_count": 8,
   "metadata": {},
   "outputs": [
    {
     "data": {
      "text/plain": [
       "0.74489215686274701"
      ]
     },
     "execution_count": 8,
     "metadata": {},
     "output_type": "execute_result"
    }
   ],
   "source": [
    "sum([meval.accuracy() for meval in metrics_evals])/nb_folds/nb_repetitions"
   ]
  },
  {
   "cell_type": "markdown",
   "metadata": {},
   "source": [
    "## Round Digitisation"
   ]
  },
  {
   "cell_type": "code",
   "execution_count": 9,
   "metadata": {
    "collapsed": true
   },
   "outputs": [],
   "source": [
    "round_digitisers = {0 : RoundDigitizer(40),\n",
    "                    1 : RoundDigitizer(40),\n",
    "                    2 : RoundDigitizer(30),\n",
    "                    3 : RoundDigitizer(20),\n",
    "                    4 : RoundDigitizer(20),\n",
    "                    5 : RoundDigitizer(35),\n",
    "                    6 : RoundDigitizer(45),\n",
    "                    7 : RoundDigitizer(15),\n",
    "                    8 : RoundDigitizer(30),\n",
    "                    9 : RoundDigitizer(45),\n",
    "                    10 : RoundDigitizer(25),\n",
    "                    11 : RoundDigitizer(40),\n",
    "                    12 : RoundDigitizer(40)}"
   ]
  },
  {
   "cell_type": "code",
   "execution_count": 10,
   "metadata": {
    "collapsed": true
   },
   "outputs": [],
   "source": [
    "tic = time.time()\n",
    "round_metrics_evals = []\n",
    "for _ in range(nb_repetitions):\n",
    "    round_cv = CrossValidator(X, Y, \n",
    "                              lambda: NaiveBayes(zero_frequency_fill=True),\n",
    "                              lambda: MultipleAttributeTransformer(round_digitisers))\n",
    "\n",
    "    round_metrics_evals += round_cv.kfold_cross_validation(nb_folds, shuffle=True)\n",
    "toc = time.time()\n",
    "round_time = toc-tic"
   ]
  },
  {
   "cell_type": "code",
   "execution_count": 11,
   "metadata": {},
   "outputs": [
    {
     "data": {
      "text/plain": [
       "0.9474379084967407"
      ]
     },
     "execution_count": 11,
     "metadata": {},
     "output_type": "execute_result"
    }
   ],
   "source": [
    "sum([meval.accuracy() for meval in round_metrics_evals])/nb_folds/nb_repetitions"
   ]
  },
  {
   "cell_type": "markdown",
   "metadata": {},
   "source": [
    "## K-Means Digitisation - 1/3"
   ]
  },
  {
   "cell_type": "code",
   "execution_count": 25,
   "metadata": {
    "collapsed": true
   },
   "outputs": [],
   "source": [
    "third_kmean_digitisers = {0 : KMeansDigitizer(40),\n",
    "                          1 : KMeansDigitizer(40),\n",
    "                          2 : KMeansDigitizer(30),\n",
    "                          3 : KMeansDigitizer(20),\n",
    "                          4 : KMeansDigitizer(20),\n",
    "                          5 : KMeansDigitizer(35),\n",
    "                          6 : KMeansDigitizer(45),\n",
    "                          7 : KMeansDigitizer(15),\n",
    "                          8 : KMeansDigitizer(30),\n",
    "                          9 : KMeansDigitizer(45),\n",
    "                          10 : KMeansDigitizer(25),\n",
    "                          11 : KMeansDigitizer(40),\n",
    "                          12 : KMeansDigitizer(40)}"
   ]
  },
  {
   "cell_type": "code",
   "execution_count": 26,
   "metadata": {},
   "outputs": [
    {
     "name": "stderr",
     "output_type": "stream",
     "text": [
      "100%|████████████████████████████████████████████████████████████████████████████████████████████████████████████████| 100/100 [06:52<00:00,  4.13s/it]\n"
     ]
    }
   ],
   "source": [
    "tic = time.time()\n",
    "third_kmeans_metrics_evals = []\n",
    "for _ in tqdm.tqdm(range(nb_repetitions)):\n",
    "    third_kmeans_cv = CrossValidator(X, Y, \n",
    "                              lambda: NaiveBayes(zero_frequency_fill=True),\n",
    "                              lambda: MultipleAttributeTransformer(third_kmean_digitisers))\n",
    "\n",
    "    third_kmeans_metrics_evals += third_kmeans_cv.kfold_cross_validation(nb_folds, shuffle=True)\n",
    "toc = time.time()\n",
    "third_kmeans_time = toc-tic"
   ]
  },
  {
   "cell_type": "code",
   "execution_count": 27,
   "metadata": {},
   "outputs": [
    {
     "data": {
      "text/plain": [
       "0.94234313725491059"
      ]
     },
     "execution_count": 27,
     "metadata": {},
     "output_type": "execute_result"
    }
   ],
   "source": [
    "sum([meval.accuracy() for meval in third_kmeans_metrics_evals])/nb_folds/nb_repetitions"
   ]
  },
  {
   "cell_type": "markdown",
   "metadata": {},
   "source": [
    "## K-Means Digitisation - 1/6"
   ]
  },
  {
   "cell_type": "code",
   "execution_count": 22,
   "metadata": {
    "collapsed": true
   },
   "outputs": [],
   "source": [
    "kmean_digitisers = {0 : KMeansDigitizer(20),\n",
    "                    1 : KMeansDigitizer(20),\n",
    "                    2 : KMeansDigitizer(15),\n",
    "                    3 : KMeansDigitizer(10),\n",
    "                    4 : KMeansDigitizer(10),\n",
    "                    5 : KMeansDigitizer(20),\n",
    "                    6 : KMeansDigitizer(25),\n",
    "                    7 : KMeansDigitizer(10),\n",
    "                    8 : KMeansDigitizer(15),\n",
    "                    9 : KMeansDigitizer(25),\n",
    "                    10 : KMeansDigitizer(10),\n",
    "                    11 : KMeansDigitizer(20),\n",
    "                    12 : KMeansDigitizer(20)}"
   ]
  },
  {
   "cell_type": "code",
   "execution_count": 23,
   "metadata": {},
   "outputs": [
    {
     "name": "stderr",
     "output_type": "stream",
     "text": [
      "100%|████████████████████████████████████████████████████████████████████████████████████████████████████████████████| 100/100 [03:56<00:00,  2.37s/it]\n"
     ]
    }
   ],
   "source": [
    "tic = time.time()\n",
    "kmeans_metrics_evals = []\n",
    "for _ in tqdm.tqdm(range(nb_repetitions)):\n",
    "    kmeans_cv = CrossValidator(X, Y, \n",
    "                              lambda: NaiveBayes(zero_frequency_fill=True),\n",
    "                              lambda: MultipleAttributeTransformer(kmean_digitisers))\n",
    "\n",
    "    kmeans_metrics_evals += kmeans_cv.kfold_cross_validation(nb_folds, shuffle=True)\n",
    "toc = time.time()\n",
    "kmeans_time = toc-tic"
   ]
  },
  {
   "cell_type": "code",
   "execution_count": 24,
   "metadata": {},
   "outputs": [
    {
     "data": {
      "text/plain": [
       "0.96658496732026744"
      ]
     },
     "execution_count": 24,
     "metadata": {},
     "output_type": "execute_result"
    }
   ],
   "source": [
    "sum([meval.accuracy() for meval in kmeans_metrics_evals])/nb_folds/nb_repetitions"
   ]
  },
  {
   "cell_type": "markdown",
   "metadata": {},
   "source": [
    "## Gaussian NB"
   ]
  },
  {
   "cell_type": "code",
   "execution_count": 28,
   "metadata": {},
   "outputs": [
    {
     "name": "stderr",
     "output_type": "stream",
     "text": [
      "100%|████████████████████████████████████████████████████████████████████████████████████████████████████████████████| 100/100 [00:07<00:00, 12.95it/s]\n"
     ]
    }
   ],
   "source": [
    "tic = time.time()\n",
    "gauss_metrics_evals = []\n",
    "for _ in tqdm.tqdm(range(nb_repetitions)):\n",
    "    gauss_cv = CrossValidator(X,Y, lambda: GaussianNaiveBayes())\n",
    "    gauss_metrics_evals += gauss_cv.kfold_cross_validation(10, shuffle=True)\n",
    "toc = time.time()\n",
    "gauss_time = toc-tic"
   ]
  },
  {
   "cell_type": "code",
   "execution_count": 15,
   "metadata": {},
   "outputs": [
    {
     "data": {
      "text/plain": [
       "0.97390196078431812"
      ]
     },
     "execution_count": 15,
     "metadata": {},
     "output_type": "execute_result"
    }
   ],
   "source": [
    "sum([meval.accuracy() for meval in gauss_metrics_evals])/nb_folds/nb_repetitions"
   ]
  },
  {
   "cell_type": "markdown",
   "metadata": {},
   "source": [
    "# Results sum up"
   ]
  },
  {
   "cell_type": "code",
   "execution_count": 29,
   "metadata": {},
   "outputs": [
    {
     "data": {
      "text/html": [
       "<div>\n",
       "<style>\n",
       "    .dataframe thead tr:only-child th {\n",
       "        text-align: right;\n",
       "    }\n",
       "\n",
       "    .dataframe thead th {\n",
       "        text-align: left;\n",
       "    }\n",
       "\n",
       "    .dataframe tbody tr th {\n",
       "        vertical-align: top;\n",
       "    }\n",
       "</style>\n",
       "<table border=\"1\" class=\"dataframe\">\n",
       "  <thead>\n",
       "    <tr style=\"text-align: right;\">\n",
       "      <th></th>\n",
       "    </tr>\n",
       "    <tr>\n",
       "      <th>Metoda Dyskretyzacji</th>\n",
       "    </tr>\n",
       "  </thead>\n",
       "  <tbody>\n",
       "    <tr>\n",
       "      <th>Brak</th>\n",
       "    </tr>\n",
       "    <tr>\n",
       "      <th>Zaokrąglanie</th>\n",
       "    </tr>\n",
       "    <tr>\n",
       "      <th>K-Means 1/3</th>\n",
       "    </tr>\n",
       "    <tr>\n",
       "      <th>K-Means 1/6</th>\n",
       "    </tr>\n",
       "    <tr>\n",
       "      <th>Gauss'owski NB</th>\n",
       "    </tr>\n",
       "  </tbody>\n",
       "</table>\n",
       "</div>"
      ],
      "text/plain": [
       "Empty DataFrame\n",
       "Columns: []\n",
       "Index: [Brak, Zaokrąglanie, K-Means 1/3, K-Means 1/6, Gauss'owski NB]"
      ]
     },
     "execution_count": 29,
     "metadata": {},
     "output_type": "execute_result"
    }
   ],
   "source": [
    "res = pd.DataFrame({'Metoda Dyskretyzacji': ['Brak', 'Zaokrąglanie','K-Means 1/3','K-Means 1/6', \"Gauss'owski NB\"]})\n",
    "res = res.set_index(res['Metoda Dyskretyzacji'])\n",
    "res = res.drop('Metoda Dyskretyzacji', axis=1)\n",
    "res"
   ]
  },
  {
   "cell_type": "code",
   "execution_count": 30,
   "metadata": {
    "collapsed": true
   },
   "outputs": [],
   "source": [
    "def calculate_metrics_avgs_stds(func_name, \n",
    "                                metrics_lists=[metrics_evals, \n",
    "                                               round_metrics_evals,\n",
    "                                               third_kmeans_metrics_evals,\n",
    "                                               kmeans_metrics_evals,\n",
    "                                               gauss_metrics_evals]):\n",
    "    means = []\n",
    "    stds = []\n",
    "    for mevals in metrics_lists:\n",
    "        metric = np.asarray([eval('m.'+func_name+'()') for m in mevals])\n",
    "        means.append(metric.mean())\n",
    "        stds.append(metric.std())\n",
    "    return means, stds"
   ]
  },
  {
   "cell_type": "code",
   "execution_count": 31,
   "metadata": {
    "scrolled": true
   },
   "outputs": [
    {
     "name": "stderr",
     "output_type": "stream",
     "text": [
      "C:\\Users\\mkosturek\\Anaconda3\\lib\\site-packages\\sklearn\\metrics\\classification.py:1135: UndefinedMetricWarning: Precision is ill-defined and being set to 0.0 in labels with no predicted samples.\n",
      "  'precision', 'predicted', average, warn_for)\n",
      "C:\\Users\\mkosturek\\Anaconda3\\lib\\site-packages\\sklearn\\metrics\\classification.py:1137: UndefinedMetricWarning: Recall is ill-defined and being set to 0.0 in labels with no true samples.\n",
      "  'recall', 'true', average, warn_for)\n",
      "C:\\Users\\mkosturek\\Anaconda3\\lib\\site-packages\\sklearn\\metrics\\classification.py:1135: UndefinedMetricWarning: F-score is ill-defined and being set to 0.0 in labels with no predicted samples.\n",
      "  'precision', 'predicted', average, warn_for)\n",
      "C:\\Users\\mkosturek\\Anaconda3\\lib\\site-packages\\sklearn\\metrics\\classification.py:1137: UndefinedMetricWarning: F-score is ill-defined and being set to 0.0 in labels with no true samples.\n",
      "  'recall', 'true', average, warn_for)\n"
     ]
    },
    {
     "ename": "ValueError",
     "evalue": "Length of values does not match length of index",
     "output_type": "error",
     "traceback": [
      "\u001b[1;31m---------------------------------------------------------------------------\u001b[0m",
      "\u001b[1;31mValueError\u001b[0m                                Traceback (most recent call last)",
      "\u001b[1;32m<ipython-input-31-c854ba676593>\u001b[0m in \u001b[0;36m<module>\u001b[1;34m()\u001b[0m\n\u001b[0;32m     15\u001b[0m \u001b[0mres\u001b[0m\u001b[1;33m[\u001b[0m\u001b[1;34m'F-measure Std'\u001b[0m\u001b[1;33m]\u001b[0m \u001b[1;33m=\u001b[0m \u001b[0mfmeas\u001b[0m\u001b[1;33m[\u001b[0m\u001b[1;36m1\u001b[0m\u001b[1;33m]\u001b[0m\u001b[1;33m\u001b[0m\u001b[0m\n\u001b[0;32m     16\u001b[0m \u001b[1;33m\u001b[0m\u001b[0m\n\u001b[1;32m---> 17\u001b[1;33m \u001b[0mres\u001b[0m\u001b[1;33m[\u001b[0m\u001b[1;34m'Średni czas kroswalidacji'\u001b[0m\u001b[1;33m]\u001b[0m \u001b[1;33m=\u001b[0m \u001b[0mnp\u001b[0m\u001b[1;33m.\u001b[0m\u001b[0masarray\u001b[0m\u001b[1;33m(\u001b[0m\u001b[1;33m[\u001b[0m\u001b[0mbase_time\u001b[0m\u001b[1;33m,\u001b[0m \u001b[0mround_time\u001b[0m\u001b[1;33m,\u001b[0m \u001b[0mkmeans_time\u001b[0m\u001b[1;33m,\u001b[0m \u001b[0mgauss_time\u001b[0m\u001b[1;33m]\u001b[0m\u001b[1;33m)\u001b[0m\u001b[1;33m/\u001b[0m\u001b[0mnb_repetitions\u001b[0m\u001b[1;33m\u001b[0m\u001b[0m\n\u001b[0m",
      "\u001b[1;32m~\\Anaconda3\\lib\\site-packages\\pandas\\core\\frame.py\u001b[0m in \u001b[0;36m__setitem__\u001b[1;34m(self, key, value)\u001b[0m\n\u001b[0;32m   2329\u001b[0m         \u001b[1;32melse\u001b[0m\u001b[1;33m:\u001b[0m\u001b[1;33m\u001b[0m\u001b[0m\n\u001b[0;32m   2330\u001b[0m             \u001b[1;31m# set column\u001b[0m\u001b[1;33m\u001b[0m\u001b[1;33m\u001b[0m\u001b[0m\n\u001b[1;32m-> 2331\u001b[1;33m             \u001b[0mself\u001b[0m\u001b[1;33m.\u001b[0m\u001b[0m_set_item\u001b[0m\u001b[1;33m(\u001b[0m\u001b[0mkey\u001b[0m\u001b[1;33m,\u001b[0m \u001b[0mvalue\u001b[0m\u001b[1;33m)\u001b[0m\u001b[1;33m\u001b[0m\u001b[0m\n\u001b[0m\u001b[0;32m   2332\u001b[0m \u001b[1;33m\u001b[0m\u001b[0m\n\u001b[0;32m   2333\u001b[0m     \u001b[1;32mdef\u001b[0m \u001b[0m_setitem_slice\u001b[0m\u001b[1;33m(\u001b[0m\u001b[0mself\u001b[0m\u001b[1;33m,\u001b[0m \u001b[0mkey\u001b[0m\u001b[1;33m,\u001b[0m \u001b[0mvalue\u001b[0m\u001b[1;33m)\u001b[0m\u001b[1;33m:\u001b[0m\u001b[1;33m\u001b[0m\u001b[0m\n",
      "\u001b[1;32m~\\Anaconda3\\lib\\site-packages\\pandas\\core\\frame.py\u001b[0m in \u001b[0;36m_set_item\u001b[1;34m(self, key, value)\u001b[0m\n\u001b[0;32m   2395\u001b[0m \u001b[1;33m\u001b[0m\u001b[0m\n\u001b[0;32m   2396\u001b[0m         \u001b[0mself\u001b[0m\u001b[1;33m.\u001b[0m\u001b[0m_ensure_valid_index\u001b[0m\u001b[1;33m(\u001b[0m\u001b[0mvalue\u001b[0m\u001b[1;33m)\u001b[0m\u001b[1;33m\u001b[0m\u001b[0m\n\u001b[1;32m-> 2397\u001b[1;33m         \u001b[0mvalue\u001b[0m \u001b[1;33m=\u001b[0m \u001b[0mself\u001b[0m\u001b[1;33m.\u001b[0m\u001b[0m_sanitize_column\u001b[0m\u001b[1;33m(\u001b[0m\u001b[0mkey\u001b[0m\u001b[1;33m,\u001b[0m \u001b[0mvalue\u001b[0m\u001b[1;33m)\u001b[0m\u001b[1;33m\u001b[0m\u001b[0m\n\u001b[0m\u001b[0;32m   2398\u001b[0m         \u001b[0mNDFrame\u001b[0m\u001b[1;33m.\u001b[0m\u001b[0m_set_item\u001b[0m\u001b[1;33m(\u001b[0m\u001b[0mself\u001b[0m\u001b[1;33m,\u001b[0m \u001b[0mkey\u001b[0m\u001b[1;33m,\u001b[0m \u001b[0mvalue\u001b[0m\u001b[1;33m)\u001b[0m\u001b[1;33m\u001b[0m\u001b[0m\n\u001b[0;32m   2399\u001b[0m \u001b[1;33m\u001b[0m\u001b[0m\n",
      "\u001b[1;32m~\\Anaconda3\\lib\\site-packages\\pandas\\core\\frame.py\u001b[0m in \u001b[0;36m_sanitize_column\u001b[1;34m(self, key, value, broadcast)\u001b[0m\n\u001b[0;32m   2566\u001b[0m \u001b[1;33m\u001b[0m\u001b[0m\n\u001b[0;32m   2567\u001b[0m             \u001b[1;31m# turn me into an ndarray\u001b[0m\u001b[1;33m\u001b[0m\u001b[1;33m\u001b[0m\u001b[0m\n\u001b[1;32m-> 2568\u001b[1;33m             \u001b[0mvalue\u001b[0m \u001b[1;33m=\u001b[0m \u001b[0m_sanitize_index\u001b[0m\u001b[1;33m(\u001b[0m\u001b[0mvalue\u001b[0m\u001b[1;33m,\u001b[0m \u001b[0mself\u001b[0m\u001b[1;33m.\u001b[0m\u001b[0mindex\u001b[0m\u001b[1;33m,\u001b[0m \u001b[0mcopy\u001b[0m\u001b[1;33m=\u001b[0m\u001b[1;32mFalse\u001b[0m\u001b[1;33m)\u001b[0m\u001b[1;33m\u001b[0m\u001b[0m\n\u001b[0m\u001b[0;32m   2569\u001b[0m             \u001b[1;32mif\u001b[0m \u001b[1;32mnot\u001b[0m \u001b[0misinstance\u001b[0m\u001b[1;33m(\u001b[0m\u001b[0mvalue\u001b[0m\u001b[1;33m,\u001b[0m \u001b[1;33m(\u001b[0m\u001b[0mnp\u001b[0m\u001b[1;33m.\u001b[0m\u001b[0mndarray\u001b[0m\u001b[1;33m,\u001b[0m \u001b[0mIndex\u001b[0m\u001b[1;33m)\u001b[0m\u001b[1;33m)\u001b[0m\u001b[1;33m:\u001b[0m\u001b[1;33m\u001b[0m\u001b[0m\n\u001b[0;32m   2570\u001b[0m                 \u001b[1;32mif\u001b[0m \u001b[0misinstance\u001b[0m\u001b[1;33m(\u001b[0m\u001b[0mvalue\u001b[0m\u001b[1;33m,\u001b[0m \u001b[0mlist\u001b[0m\u001b[1;33m)\u001b[0m \u001b[1;32mand\u001b[0m \u001b[0mlen\u001b[0m\u001b[1;33m(\u001b[0m\u001b[0mvalue\u001b[0m\u001b[1;33m)\u001b[0m \u001b[1;33m>\u001b[0m \u001b[1;36m0\u001b[0m\u001b[1;33m:\u001b[0m\u001b[1;33m\u001b[0m\u001b[0m\n",
      "\u001b[1;32m~\\Anaconda3\\lib\\site-packages\\pandas\\core\\series.py\u001b[0m in \u001b[0;36m_sanitize_index\u001b[1;34m(data, index, copy)\u001b[0m\n\u001b[0;32m   2877\u001b[0m \u001b[1;33m\u001b[0m\u001b[0m\n\u001b[0;32m   2878\u001b[0m     \u001b[1;32mif\u001b[0m \u001b[0mlen\u001b[0m\u001b[1;33m(\u001b[0m\u001b[0mdata\u001b[0m\u001b[1;33m)\u001b[0m \u001b[1;33m!=\u001b[0m \u001b[0mlen\u001b[0m\u001b[1;33m(\u001b[0m\u001b[0mindex\u001b[0m\u001b[1;33m)\u001b[0m\u001b[1;33m:\u001b[0m\u001b[1;33m\u001b[0m\u001b[0m\n\u001b[1;32m-> 2879\u001b[1;33m         \u001b[1;32mraise\u001b[0m \u001b[0mValueError\u001b[0m\u001b[1;33m(\u001b[0m\u001b[1;34m'Length of values does not match length of '\u001b[0m \u001b[1;34m'index'\u001b[0m\u001b[1;33m)\u001b[0m\u001b[1;33m\u001b[0m\u001b[0m\n\u001b[0m\u001b[0;32m   2880\u001b[0m \u001b[1;33m\u001b[0m\u001b[0m\n\u001b[0;32m   2881\u001b[0m     \u001b[1;32mif\u001b[0m \u001b[0misinstance\u001b[0m\u001b[1;33m(\u001b[0m\u001b[0mdata\u001b[0m\u001b[1;33m,\u001b[0m \u001b[0mPeriodIndex\u001b[0m\u001b[1;33m)\u001b[0m\u001b[1;33m:\u001b[0m\u001b[1;33m\u001b[0m\u001b[0m\n",
      "\u001b[1;31mValueError\u001b[0m: Length of values does not match length of index"
     ]
    }
   ],
   "source": [
    "acc = calculate_metrics_avgs_stds('accuracy')\n",
    "res['Accuracy'] = acc[0]\n",
    "res['Accuracy Std'] = acc[1]\n",
    "\n",
    "prec = calculate_metrics_avgs_stds('precision')\n",
    "res['Precision'] = prec[0]\n",
    "res['Precision Std'] = prec[1]\n",
    "\n",
    "rec = calculate_metrics_avgs_stds('recall')\n",
    "res['Recall'] = rec[0]\n",
    "res['Recall Std'] = rec[1]\n",
    "\n",
    "fmeas = calculate_metrics_avgs_stds('f_measure')\n",
    "res['F-measure'] = fmeas[0]\n",
    "res['F-measure Std'] = fmeas[1]\n",
    "\n",
    "res['Średni czas kroswalidacji'] = np.asarray([base_time, round_time, third_kmeans_time, kmeans_time, gauss_time])/nb_repetitions"
   ]
  },
  {
   "cell_type": "code",
   "execution_count": 33,
   "metadata": {},
   "outputs": [
    {
     "data": {
      "text/html": [
       "<div>\n",
       "<style>\n",
       "    .dataframe thead tr:only-child th {\n",
       "        text-align: right;\n",
       "    }\n",
       "\n",
       "    .dataframe thead th {\n",
       "        text-align: left;\n",
       "    }\n",
       "\n",
       "    .dataframe tbody tr th {\n",
       "        vertical-align: top;\n",
       "    }\n",
       "</style>\n",
       "<table border=\"1\" class=\"dataframe\">\n",
       "  <thead>\n",
       "    <tr style=\"text-align: right;\">\n",
       "      <th></th>\n",
       "      <th>Accuracy</th>\n",
       "      <th>Accuracy Std</th>\n",
       "      <th>Precision</th>\n",
       "      <th>Precision Std</th>\n",
       "      <th>Recall</th>\n",
       "      <th>Recall Std</th>\n",
       "      <th>F-measure</th>\n",
       "      <th>F-measure Std</th>\n",
       "      <th>Średni czas kroswalidacji</th>\n",
       "    </tr>\n",
       "    <tr>\n",
       "      <th>Metoda Dyskretyzacji</th>\n",
       "      <th></th>\n",
       "      <th></th>\n",
       "      <th></th>\n",
       "      <th></th>\n",
       "      <th></th>\n",
       "      <th></th>\n",
       "      <th></th>\n",
       "      <th></th>\n",
       "      <th></th>\n",
       "    </tr>\n",
       "  </thead>\n",
       "  <tbody>\n",
       "    <tr>\n",
       "      <th>Brak</th>\n",
       "      <td>0.744892</td>\n",
       "      <td>0.105998</td>\n",
       "      <td>0.807970</td>\n",
       "      <td>0.085135</td>\n",
       "      <td>0.744892</td>\n",
       "      <td>0.105998</td>\n",
       "      <td>0.739884</td>\n",
       "      <td>0.109496</td>\n",
       "      <td>3.015564</td>\n",
       "    </tr>\n",
       "    <tr>\n",
       "      <th>Zaokrąglanie</th>\n",
       "      <td>0.947438</td>\n",
       "      <td>0.052406</td>\n",
       "      <td>0.958549</td>\n",
       "      <td>0.038231</td>\n",
       "      <td>0.947438</td>\n",
       "      <td>0.052406</td>\n",
       "      <td>0.947713</td>\n",
       "      <td>0.051404</td>\n",
       "      <td>0.728339</td>\n",
       "    </tr>\n",
       "    <tr>\n",
       "      <th>K-Means 1/3</th>\n",
       "      <td>0.942343</td>\n",
       "      <td>0.054373</td>\n",
       "      <td>0.953394</td>\n",
       "      <td>0.042945</td>\n",
       "      <td>0.942343</td>\n",
       "      <td>0.054373</td>\n",
       "      <td>0.942779</td>\n",
       "      <td>0.053621</td>\n",
       "      <td>4.129686</td>\n",
       "    </tr>\n",
       "    <tr>\n",
       "      <th>K-Means 1/6</th>\n",
       "      <td>0.966585</td>\n",
       "      <td>0.041575</td>\n",
       "      <td>0.972956</td>\n",
       "      <td>0.033089</td>\n",
       "      <td>0.966585</td>\n",
       "      <td>0.041575</td>\n",
       "      <td>0.966759</td>\n",
       "      <td>0.041346</td>\n",
       "      <td>2.366775</td>\n",
       "    </tr>\n",
       "    <tr>\n",
       "      <th>Gauss'owski NB</th>\n",
       "      <td>0.973422</td>\n",
       "      <td>0.038674</td>\n",
       "      <td>0.978356</td>\n",
       "      <td>0.031757</td>\n",
       "      <td>0.973422</td>\n",
       "      <td>0.038674</td>\n",
       "      <td>0.973653</td>\n",
       "      <td>0.038450</td>\n",
       "      <td>0.077380</td>\n",
       "    </tr>\n",
       "  </tbody>\n",
       "</table>\n",
       "</div>"
      ],
      "text/plain": [
       "                      Accuracy  Accuracy Std  Precision  Precision Std  \\\n",
       "Metoda Dyskretyzacji                                                     \n",
       "Brak                  0.744892      0.105998   0.807970       0.085135   \n",
       "Zaokrąglanie          0.947438      0.052406   0.958549       0.038231   \n",
       "K-Means 1/3           0.942343      0.054373   0.953394       0.042945   \n",
       "K-Means 1/6           0.966585      0.041575   0.972956       0.033089   \n",
       "Gauss'owski NB        0.973422      0.038674   0.978356       0.031757   \n",
       "\n",
       "                        Recall  Recall Std  F-measure  F-measure Std  \\\n",
       "Metoda Dyskretyzacji                                                   \n",
       "Brak                  0.744892    0.105998   0.739884       0.109496   \n",
       "Zaokrąglanie          0.947438    0.052406   0.947713       0.051404   \n",
       "K-Means 1/3           0.942343    0.054373   0.942779       0.053621   \n",
       "K-Means 1/6           0.966585    0.041575   0.966759       0.041346   \n",
       "Gauss'owski NB        0.973422    0.038674   0.973653       0.038450   \n",
       "\n",
       "                      Średni czas kroswalidacji  \n",
       "Metoda Dyskretyzacji                             \n",
       "Brak                                   3.015564  \n",
       "Zaokrąglanie                           0.728339  \n",
       "K-Means 1/3                            4.129686  \n",
       "K-Means 1/6                            2.366775  \n",
       "Gauss'owski NB                         0.077380  "
      ]
     },
     "execution_count": 33,
     "metadata": {},
     "output_type": "execute_result"
    }
   ],
   "source": [
    "res"
   ]
  },
  {
   "cell_type": "code",
   "execution_count": 34,
   "metadata": {},
   "outputs": [
    {
     "data": {
      "text/html": [
       "<div>\n",
       "<style>\n",
       "    .dataframe thead tr:only-child th {\n",
       "        text-align: right;\n",
       "    }\n",
       "\n",
       "    .dataframe thead th {\n",
       "        text-align: left;\n",
       "    }\n",
       "\n",
       "    .dataframe tbody tr th {\n",
       "        vertical-align: top;\n",
       "    }\n",
       "</style>\n",
       "<table border=\"1\" class=\"dataframe\">\n",
       "  <thead>\n",
       "    <tr style=\"text-align: right;\">\n",
       "      <th>Metoda Dyskretyzacji</th>\n",
       "      <th>Brak</th>\n",
       "      <th>Zaokrąglanie</th>\n",
       "      <th>K-Means 1/3</th>\n",
       "      <th>K-Means 1/6</th>\n",
       "      <th>Gauss'owski NB</th>\n",
       "    </tr>\n",
       "  </thead>\n",
       "  <tbody>\n",
       "    <tr>\n",
       "      <th>Accuracy</th>\n",
       "      <td>0.744892</td>\n",
       "      <td>0.947438</td>\n",
       "      <td>0.942343</td>\n",
       "      <td>0.966585</td>\n",
       "      <td>0.973422</td>\n",
       "    </tr>\n",
       "    <tr>\n",
       "      <th>Accuracy Std</th>\n",
       "      <td>0.105998</td>\n",
       "      <td>0.052406</td>\n",
       "      <td>0.054373</td>\n",
       "      <td>0.041575</td>\n",
       "      <td>0.038674</td>\n",
       "    </tr>\n",
       "    <tr>\n",
       "      <th>Precision</th>\n",
       "      <td>0.807970</td>\n",
       "      <td>0.958549</td>\n",
       "      <td>0.953394</td>\n",
       "      <td>0.972956</td>\n",
       "      <td>0.978356</td>\n",
       "    </tr>\n",
       "    <tr>\n",
       "      <th>Precision Std</th>\n",
       "      <td>0.085135</td>\n",
       "      <td>0.038231</td>\n",
       "      <td>0.042945</td>\n",
       "      <td>0.033089</td>\n",
       "      <td>0.031757</td>\n",
       "    </tr>\n",
       "    <tr>\n",
       "      <th>Recall</th>\n",
       "      <td>0.744892</td>\n",
       "      <td>0.947438</td>\n",
       "      <td>0.942343</td>\n",
       "      <td>0.966585</td>\n",
       "      <td>0.973422</td>\n",
       "    </tr>\n",
       "    <tr>\n",
       "      <th>Recall Std</th>\n",
       "      <td>0.105998</td>\n",
       "      <td>0.052406</td>\n",
       "      <td>0.054373</td>\n",
       "      <td>0.041575</td>\n",
       "      <td>0.038674</td>\n",
       "    </tr>\n",
       "    <tr>\n",
       "      <th>F-measure</th>\n",
       "      <td>0.739884</td>\n",
       "      <td>0.947713</td>\n",
       "      <td>0.942779</td>\n",
       "      <td>0.966759</td>\n",
       "      <td>0.973653</td>\n",
       "    </tr>\n",
       "    <tr>\n",
       "      <th>F-measure Std</th>\n",
       "      <td>0.109496</td>\n",
       "      <td>0.051404</td>\n",
       "      <td>0.053621</td>\n",
       "      <td>0.041346</td>\n",
       "      <td>0.038450</td>\n",
       "    </tr>\n",
       "    <tr>\n",
       "      <th>Średni czas kroswalidacji</th>\n",
       "      <td>3.015564</td>\n",
       "      <td>0.728339</td>\n",
       "      <td>4.129686</td>\n",
       "      <td>2.366775</td>\n",
       "      <td>0.077380</td>\n",
       "    </tr>\n",
       "  </tbody>\n",
       "</table>\n",
       "</div>"
      ],
      "text/plain": [
       "Metoda Dyskretyzacji           Brak  Zaokrąglanie  K-Means 1/3  K-Means 1/6  \\\n",
       "Accuracy                   0.744892      0.947438     0.942343     0.966585   \n",
       "Accuracy Std               0.105998      0.052406     0.054373     0.041575   \n",
       "Precision                  0.807970      0.958549     0.953394     0.972956   \n",
       "Precision Std              0.085135      0.038231     0.042945     0.033089   \n",
       "Recall                     0.744892      0.947438     0.942343     0.966585   \n",
       "Recall Std                 0.105998      0.052406     0.054373     0.041575   \n",
       "F-measure                  0.739884      0.947713     0.942779     0.966759   \n",
       "F-measure Std              0.109496      0.051404     0.053621     0.041346   \n",
       "Średni czas kroswalidacji  3.015564      0.728339     4.129686     2.366775   \n",
       "\n",
       "Metoda Dyskretyzacji       Gauss'owski NB  \n",
       "Accuracy                         0.973422  \n",
       "Accuracy Std                     0.038674  \n",
       "Precision                        0.978356  \n",
       "Precision Std                    0.031757  \n",
       "Recall                           0.973422  \n",
       "Recall Std                       0.038674  \n",
       "F-measure                        0.973653  \n",
       "F-measure Std                    0.038450  \n",
       "Średni czas kroswalidacji        0.077380  "
      ]
     },
     "execution_count": 34,
     "metadata": {},
     "output_type": "execute_result"
    }
   ],
   "source": [
    "res.transpose()"
   ]
  },
  {
   "cell_type": "code",
   "execution_count": 35,
   "metadata": {},
   "outputs": [
    {
     "name": "stdout",
     "output_type": "stream",
     "text": [
      "\\begin{tabular}{lrrrrr}\n",
      "\\toprule\n",
      "Metoda Dyskretyzacji &      Brak &  Zaokrąglanie &  K-Means 1/3 &  K-Means 1/6 &  Gauss'owski NB \\\\\n",
      "\\midrule\n",
      "Accuracy                  &  0.744892 &      0.947438 &     0.942343 &     0.966585 &        0.973422 \\\\\n",
      "Accuracy Std              &  0.105998 &      0.052406 &     0.054373 &     0.041575 &        0.038674 \\\\\n",
      "Precision                 &  0.807970 &      0.958549 &     0.953394 &     0.972956 &        0.978356 \\\\\n",
      "Precision Std             &  0.085135 &      0.038231 &     0.042945 &     0.033089 &        0.031757 \\\\\n",
      "Recall                    &  0.744892 &      0.947438 &     0.942343 &     0.966585 &        0.973422 \\\\\n",
      "Recall Std                &  0.105998 &      0.052406 &     0.054373 &     0.041575 &        0.038674 \\\\\n",
      "F-measure                 &  0.739884 &      0.947713 &     0.942779 &     0.966759 &        0.973653 \\\\\n",
      "F-measure Std             &  0.109496 &      0.051404 &     0.053621 &     0.041346 &        0.038450 \\\\\n",
      "Średni czas kroswalidacji &  3.015564 &      0.728339 &     4.129686 &     2.366775 &        0.077380 \\\\\n",
      "\\bottomrule\n",
      "\\end{tabular}\n",
      "\n"
     ]
    }
   ],
   "source": [
    "print(res.transpose().to_latex())"
   ]
  },
  {
   "cell_type": "code",
   "execution_count": 37,
   "metadata": {},
   "outputs": [
    {
     "name": "stdout",
     "output_type": "stream",
     "text": [
      "\\begin{tabular}{lrrrrrrrrr}\n",
      "\\toprule\n",
      "{} &  Accuracy &  Accuracy Std &  Precision &  Precision Std &  Recall &  Recall Std &  F-measure &  F-measure Std &  Średni czas kroswalidacji \\\\\n",
      "Metoda Dyskretyzacji &           &               &            &                &         &             &            &                &                            \\\\\n",
      "\\midrule\n",
      "Brak                 &    0.7449 &        0.1060 &     0.8080 &         0.0851 &  0.7449 &      0.1060 &     0.7399 &         0.1095 &                     3.0156 \\\\\n",
      "Zaokrąglanie         &    0.9474 &        0.0524 &     0.9585 &         0.0382 &  0.9474 &      0.0524 &     0.9477 &         0.0514 &                     0.7283 \\\\\n",
      "K-Means 1/3          &    0.9423 &        0.0544 &     0.9534 &         0.0429 &  0.9423 &      0.0544 &     0.9428 &         0.0536 &                     4.1297 \\\\\n",
      "K-Means 1/6          &    0.9666 &        0.0416 &     0.9730 &         0.0331 &  0.9666 &      0.0416 &     0.9668 &         0.0413 &                     2.3668 \\\\\n",
      "Gauss'owski NB       &    0.9734 &        0.0387 &     0.9784 &         0.0318 &  0.9734 &      0.0387 &     0.9737 &         0.0384 &                     0.0774 \\\\\n",
      "\\bottomrule\n",
      "\\end{tabular}\n",
      "\n"
     ]
    }
   ],
   "source": [
    "print(res.to_latex(float_format=lambda x: '{:.4f}'.format(x)))"
   ]
  },
  {
   "cell_type": "markdown",
   "metadata": {},
   "source": [
    "# Stage 2"
   ]
  },
  {
   "cell_type": "code",
   "execution_count": 58,
   "metadata": {},
   "outputs": [
    {
     "data": {
      "text/plain": [
       "(768, 8)"
      ]
     },
     "execution_count": 58,
     "metadata": {},
     "output_type": "execute_result"
    }
   ],
   "source": [
    "data = load_pima_diabetes()\n",
    "X, Y = data\n",
    "X.shape"
   ]
  },
  {
   "cell_type": "markdown",
   "metadata": {},
   "source": [
    "## Gaussian"
   ]
  },
  {
   "cell_type": "code",
   "execution_count": 101,
   "metadata": {
    "collapsed": true
   },
   "outputs": [],
   "source": [
    "tic = time.time()\n",
    "gaussian_metrics_evals = []\n",
    "for _ in range(nb_repetitions):\n",
    "    gaussian_cv = CrossValidator(X,Y, lambda: GaussianNaiveBayes())\n",
    "    gaussian_metrics_evals += gaussian_cv.kfold_cross_validation(10, shuffle=True)\n",
    "toc = time.time()\n",
    "gaussian_time = toc-tic"
   ]
  },
  {
   "cell_type": "code",
   "execution_count": 102,
   "metadata": {},
   "outputs": [
    {
     "data": {
      "text/plain": [
       "0.75543250170881804"
      ]
     },
     "execution_count": 102,
     "metadata": {},
     "output_type": "execute_result"
    }
   ],
   "source": [
    "sum([meval.accuracy() for meval in gaussian_metrics_evals])/nb_folds/nb_repetitions"
   ]
  },
  {
   "cell_type": "markdown",
   "metadata": {},
   "source": [
    "## Mixed"
   ]
  },
  {
   "cell_type": "code",
   "execution_count": 131,
   "metadata": {
    "collapsed": true
   },
   "outputs": [],
   "source": [
    "digitisers = {0 : KMeansDigitizer(10),\n",
    "              1 : None,\n",
    "              2 : None,\n",
    "              3 : KMeansDigitizer(12),\n",
    "              4 : KMeansDigitizer(20),\n",
    "              5 : KMeansDigitizer(20),\n",
    "              6 : None, # BMI\n",
    "              7 : None,\n",
    "              8 : KMeansDigitizer(10)}\n",
    "\n",
    "transformer_initialiser = lambda: MultipleAttributeTransformer(digitisers)"
   ]
  },
  {
   "cell_type": "code",
   "execution_count": 132,
   "metadata": {
    "collapsed": true
   },
   "outputs": [],
   "source": [
    "model_initialiser = lambda: MixedNaiveBayes([1,2,6,7], zero_frequency_fill=True)"
   ]
  },
  {
   "cell_type": "code",
   "execution_count": 133,
   "metadata": {
    "collapsed": true
   },
   "outputs": [],
   "source": [
    "tic = time.time()\n",
    "mixed_metrics_evals = []\n",
    "for _ in range(nb_repetitions):\n",
    "    mixed_cv = CrossValidator(X,Y, model_initialiser,transformer_initialiser)\n",
    "    mixed_metrics_evals += mixed_cv.kfold_cross_validation(10, shuffle=True)\n",
    "toc = time.time()\n",
    "mixed_time = toc-tic"
   ]
  },
  {
   "cell_type": "code",
   "execution_count": 134,
   "metadata": {},
   "outputs": [
    {
     "data": {
      "text/plain": [
       "0.70939747095010275"
      ]
     },
     "execution_count": 134,
     "metadata": {},
     "output_type": "execute_result"
    }
   ],
   "source": [
    "sum([meval.accuracy() for meval in mixed_metrics_evals])/nb_folds/nb_repetitions"
   ]
  },
  {
   "cell_type": "code",
   "execution_count": null,
   "metadata": {
    "collapsed": true
   },
   "outputs": [],
   "source": []
  },
  {
   "cell_type": "code",
   "execution_count": null,
   "metadata": {
    "collapsed": true
   },
   "outputs": [],
   "source": []
  },
  {
   "cell_type": "code",
   "execution_count": null,
   "metadata": {
    "collapsed": true
   },
   "outputs": [],
   "source": []
  },
  {
   "cell_type": "code",
   "execution_count": null,
   "metadata": {
    "collapsed": true
   },
   "outputs": [],
   "source": []
  },
  {
   "cell_type": "code",
   "execution_count": 137,
   "metadata": {},
   "outputs": [
    {
     "data": {
      "text/plain": [
       "(214, 9)"
      ]
     },
     "execution_count": 137,
     "metadata": {},
     "output_type": "execute_result"
    }
   ],
   "source": [
    "data = load_glass()\n",
    "X,Y = data\n",
    "X.shape"
   ]
  },
  {
   "cell_type": "code",
   "execution_count": null,
   "metadata": {
    "collapsed": true
   },
   "outputs": [],
   "source": []
  },
  {
   "cell_type": "code",
   "execution_count": 138,
   "metadata": {
    "collapsed": true
   },
   "outputs": [],
   "source": [
    "tic = time.time()\n",
    "gaussian_metrics_evals = []\n",
    "for _ in range(nb_repetitions):\n",
    "    gaussian_cv = CrossValidator(X,Y, lambda: GaussianNaiveBayes())\n",
    "    gaussian_metrics_evals += gaussian_cv.kfold_cross_validation(10, shuffle=True)\n",
    "toc = time.time()\n",
    "gaussian_time = toc-tic"
   ]
  },
  {
   "cell_type": "code",
   "execution_count": 139,
   "metadata": {},
   "outputs": [
    {
     "data": {
      "text/plain": [
       "0.45953463203463246"
      ]
     },
     "execution_count": 139,
     "metadata": {},
     "output_type": "execute_result"
    }
   ],
   "source": [
    "sum([meval.accuracy() for meval in gaussian_metrics_evals])/nb_folds/nb_repetitions"
   ]
  },
  {
   "cell_type": "code",
   "execution_count": null,
   "metadata": {
    "collapsed": true
   },
   "outputs": [],
   "source": []
  },
  {
   "cell_type": "code",
   "execution_count": null,
   "metadata": {
    "collapsed": true
   },
   "outputs": [],
   "source": []
  },
  {
   "cell_type": "code",
   "execution_count": null,
   "metadata": {
    "collapsed": true
   },
   "outputs": [],
   "source": []
  },
  {
   "cell_type": "code",
   "execution_count": 150,
   "metadata": {
    "collapsed": true
   },
   "outputs": [],
   "source": [
    "digitisers = {0 : None,\n",
    "              1 : None,\n",
    "              2 : None,\n",
    "              3 : None,\n",
    "              4 : None,\n",
    "              5 : None,#KMeansDigitizer(20),\n",
    "              6 : None,\n",
    "              7 : None,#KMeansDigitizer(10),\n",
    "              8 : None}#KMeansDigitizer(10)}\n",
    "\n",
    "transformer_initialiser = lambda: MultipleAttributeTransformer(digitisers)"
   ]
  },
  {
   "cell_type": "code",
   "execution_count": 151,
   "metadata": {
    "collapsed": true
   },
   "outputs": [],
   "source": [
    "model_initialiser = lambda: MixedNaiveBayes([0,1,2,3,4,6], zero_frequency_fill=True)"
   ]
  },
  {
   "cell_type": "code",
   "execution_count": 152,
   "metadata": {
    "collapsed": true
   },
   "outputs": [],
   "source": [
    "tic = time.time()\n",
    "mixed_metrics_evals = []\n",
    "for _ in range(nb_repetitions):\n",
    "    mixed_cv = CrossValidator(X,Y, model_initialiser,transformer_initialiser)\n",
    "    mixed_metrics_evals += mixed_cv.kfold_cross_validation(10, shuffle=True)\n",
    "toc = time.time()\n",
    "mixed_time = toc-tic"
   ]
  },
  {
   "cell_type": "code",
   "execution_count": 153,
   "metadata": {},
   "outputs": [
    {
     "data": {
      "text/plain": [
       "0.26583982683982782"
      ]
     },
     "execution_count": 153,
     "metadata": {},
     "output_type": "execute_result"
    }
   ],
   "source": [
    "sum([meval.accuracy() for meval in mixed_metrics_evals])/nb_folds/nb_repetitions"
   ]
  },
  {
   "cell_type": "code",
   "execution_count": null,
   "metadata": {
    "collapsed": true
   },
   "outputs": [],
   "source": []
  }
 ],
 "metadata": {
  "kernelspec": {
   "display_name": "Python 3",
   "language": "python",
   "name": "python3"
  },
  "language_info": {
   "codemirror_mode": {
    "name": "ipython",
    "version": 3
   },
   "file_extension": ".py",
   "mimetype": "text/x-python",
   "name": "python",
   "nbconvert_exporter": "python",
   "pygments_lexer": "ipython3",
   "version": "3.6.3"
  },
  "toc": {
   "nav_menu": {},
   "number_sections": true,
   "sideBar": true,
   "skip_h1_title": false,
   "toc_cell": false,
   "toc_position": {},
   "toc_section_display": "block",
   "toc_window_display": false
  }
 },
 "nbformat": 4,
 "nbformat_minor": 2
}
