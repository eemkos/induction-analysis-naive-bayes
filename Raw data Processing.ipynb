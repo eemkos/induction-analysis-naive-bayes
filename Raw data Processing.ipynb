{
 "cells": [
  {
   "cell_type": "code",
   "execution_count": 9,
   "metadata": {
    "collapsed": true
   },
   "outputs": [],
   "source": [
    "import pandas as pd\n",
    "import numpy as np\n",
    "from src.data.load_data import load_diabetes, load_glass, load_iris, load_wine, load_pima_diabetes\n",
    "#from src.naive_bayes import GaussianNaiveBayes"
   ]
  },
  {
   "cell_type": "markdown",
   "metadata": {},
   "source": [
    "# Iris"
   ]
  },
  {
   "cell_type": "code",
   "execution_count": 4,
   "metadata": {
    "collapsed": true
   },
   "outputs": [],
   "source": [
    "iris = load_iris()"
   ]
  },
  {
   "cell_type": "code",
   "execution_count": 5,
   "metadata": {
    "collapsed": true
   },
   "outputs": [],
   "source": [
    "x = iris[['SepalWidth', 'SepalLength', \n",
    "          'PetalWidth', 'PetalLength']].values\n",
    "y = iris['ClassIndex'].values"
   ]
  },
  {
   "cell_type": "code",
   "execution_count": 7,
   "metadata": {
    "collapsed": true
   },
   "outputs": [],
   "source": [
    "with open('./data/iris/processed/x.npy', 'wb') as f:\n",
    "    np.save(f, x)\n",
    "    \n",
    "with open('./data/iris/processed/y.npy', 'wb') as f:\n",
    "    np.save(f, y)"
   ]
  },
  {
   "cell_type": "markdown",
   "metadata": {},
   "source": [
    "# Wine"
   ]
  },
  {
   "cell_type": "code",
   "execution_count": 8,
   "metadata": {
    "collapsed": true
   },
   "outputs": [],
   "source": [
    "wine = load_wine()"
   ]
  },
  {
   "cell_type": "code",
   "execution_count": 9,
   "metadata": {
    "collapsed": true
   },
   "outputs": [],
   "source": [
    "x = wine[['Alcohol', 'MalicAcid', 'Ash', 'AlcalinityOfAsh', \n",
    "          'Magnesium', 'TotalPhenols', 'Flavanoids', \n",
    "          'NonflavanoidPhenols', 'Proanthocyanins', 'ColorIntensity', \n",
    "          'Hue', 'OD280/OD315 of diluted wines', 'Proline']].values\n",
    "y = wine['ClassIndex'].values"
   ]
  },
  {
   "cell_type": "code",
   "execution_count": 10,
   "metadata": {
    "collapsed": true
   },
   "outputs": [],
   "source": [
    "with open('./data/wine/processed/x.npy', 'wb') as f:\n",
    "    np.save(f, x)\n",
    "    \n",
    "with open('./data/wine/processed/y.npy', 'wb') as f:\n",
    "    np.save(f, y)"
   ]
  },
  {
   "cell_type": "markdown",
   "metadata": {},
   "source": [
    "# Glass"
   ]
  },
  {
   "cell_type": "code",
   "execution_count": 10,
   "metadata": {
    "collapsed": true
   },
   "outputs": [],
   "source": [
    "glass = load_glass()"
   ]
  },
  {
   "cell_type": "code",
   "execution_count": 14,
   "metadata": {
    "collapsed": true
   },
   "outputs": [],
   "source": [
    "x = glass[['RefractiveIndex', 'Sodium', 'Magnesium', \n",
    "           'Aluminum', 'Silicon', 'Potassium', \n",
    "           'Calcium', 'Barium', 'Iron']].values\n",
    "y = glass['ClassIndex'].values"
   ]
  },
  {
   "cell_type": "code",
   "execution_count": 15,
   "metadata": {
    "collapsed": true
   },
   "outputs": [],
   "source": [
    "with open('./data/glass/processed/x.npy', 'wb') as f:\n",
    "    np.save(f, x)\n",
    "    \n",
    "with open('./data/glass/processed/y.npy', 'wb') as f:\n",
    "    np.save(f, y)"
   ]
  },
  {
   "cell_type": "markdown",
   "metadata": {},
   "source": [
    "# Diabetes"
   ]
  },
  {
   "cell_type": "code",
   "execution_count": 22,
   "metadata": {
    "collapsed": true
   },
   "outputs": [],
   "source": [
    "diabetes = load_diabetes()"
   ]
  },
  {
   "cell_type": "code",
   "execution_count": 44,
   "metadata": {
    "collapsed": true
   },
   "outputs": [],
   "source": [
    "diabetes['Year'] = diabetes.DateTime.apply(lambda d: d.year)"
   ]
  },
  {
   "cell_type": "code",
   "execution_count": 23,
   "metadata": {
    "collapsed": true
   },
   "outputs": [],
   "source": [
    "diabetes['Month'] = diabetes.DateTime.apply(lambda d: d.month)"
   ]
  },
  {
   "cell_type": "code",
   "execution_count": 24,
   "metadata": {
    "collapsed": true
   },
   "outputs": [],
   "source": [
    "diabetes['Hour'] = diabetes.DateTime.apply(lambda d: d.hour + (1.*d.minute/60))"
   ]
  },
  {
   "cell_type": "code",
   "execution_count": 43,
   "metadata": {
    "collapsed": true
   },
   "outputs": [],
   "source": [
    "diabetes['Timestamp'] = diabetes.DateTime.apply(lambda d: d.timestamp())"
   ]
  },
  {
   "cell_type": "code",
   "execution_count": 45,
   "metadata": {
    "collapsed": true
   },
   "outputs": [],
   "source": [
    "x = diabetes[['Timestamp', 'Year', 'Month', 'Hour', 'Code']].values\n",
    "y = diabetes['Value'].values"
   ]
  },
  {
   "cell_type": "code",
   "execution_count": 46,
   "metadata": {
    "collapsed": true
   },
   "outputs": [],
   "source": [
    "with open('./data/diabetes/processed/x.npy', 'wb') as f:\n",
    "    np.save(f, x)\n",
    "    \n",
    "with open('./data/diabetes/processed/y.npy', 'wb') as f:\n",
    "    np.save(f, y)"
   ]
  },
  {
   "cell_type": "markdown",
   "metadata": {},
   "source": [
    "# Pima"
   ]
  },
  {
   "cell_type": "code",
   "execution_count": 6,
   "metadata": {
    "collapsed": true
   },
   "outputs": [],
   "source": [
    "pima = load_pima_diabetes()"
   ]
  },
  {
   "cell_type": "code",
   "execution_count": 7,
   "metadata": {
    "collapsed": true
   },
   "outputs": [],
   "source": [
    "x = pima[['NbPregnancies', 'PlasmaGlucoseConcentration', 'DiastolicBloodPressure',\n",
    "                   'TricepsSkinFoldThickness', 'TwoHourSerumInsulin', 'BMI',\n",
    "                   'DiabetesPedigreeFunction', 'Age']].values\n",
    "y = pima['Class'].values"
   ]
  },
  {
   "cell_type": "code",
   "execution_count": 8,
   "metadata": {
    "collapsed": true
   },
   "outputs": [],
   "source": [
    "with open('./data/pima_diabetes/processed/x.npy', 'wb') as f:\n",
    "    np.save(f, x)\n",
    "    \n",
    "with open('./data/pima_diabetes/processed/y.npy', 'wb') as f:\n",
    "    np.save(f, y)"
   ]
  },
  {
   "cell_type": "code",
   "execution_count": null,
   "metadata": {
    "collapsed": true
   },
   "outputs": [],
   "source": []
  }
 ],
 "metadata": {
  "kernelspec": {
   "display_name": "Python 3",
   "language": "python",
   "name": "python3"
  },
  "language_info": {
   "codemirror_mode": {
    "name": "ipython",
    "version": 3
   },
   "file_extension": ".py",
   "mimetype": "text/x-python",
   "name": "python",
   "nbconvert_exporter": "python",
   "pygments_lexer": "ipython3",
   "version": "3.6.3"
  },
  "toc": {
   "nav_menu": {},
   "number_sections": true,
   "sideBar": true,
   "skip_h1_title": false,
   "toc_cell": false,
   "toc_position": {},
   "toc_section_display": "block",
   "toc_window_display": false
  }
 },
 "nbformat": 4,
 "nbformat_minor": 2
}
